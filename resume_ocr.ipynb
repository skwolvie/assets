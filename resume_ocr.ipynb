{
  "nbformat": 4,
  "nbformat_minor": 0,
  "metadata": {
    "colab": {
      "name": "resume_ocr.ipynb",
      "provenance": [],
      "collapsed_sections": [],
      "mount_file_id": "1yEy4JG5Rp_lK-J-WFIktFIEF6-26JAc4",
      "authorship_tag": "ABX9TyNJSbDKQI6novJPF39jjzk4",
      "include_colab_link": true
    },
    "kernelspec": {
      "name": "python3",
      "display_name": "Python 3"
    },
    "language_info": {
      "name": "python"
    },
    "accelerator": "GPU"
  },
  "cells": [
    {
      "cell_type": "markdown",
      "metadata": {
        "id": "view-in-github",
        "colab_type": "text"
      },
      "source": [
        "<a href=\"https://colab.research.google.com/github/skwolvie/assets/blob/main/resume_ocr.ipynb\" target=\"_parent\"><img src=\"https://colab.research.google.com/assets/colab-badge.svg\" alt=\"Open In Colab\"/></a>"
      ]
    },
    {
      "cell_type": "markdown",
      "metadata": {
        "id": "HIJN8YtApaFv"
      },
      "source": [
        "# SETUP AND INSTALL ENV"
      ]
    },
    {
      "cell_type": "code",
      "metadata": {
        "id": "fBT22A10sYdz",
        "colab": {
          "base_uri": "https://localhost:8080/"
        },
        "outputId": "d1fefb3d-2e63-4794-dc9a-ffea9806d69f"
      },
      "source": [
        "!apt install -qq enchant\n",
        "!apt install mecab\n",
        "!apt install libmecab-dev\n",
        "!apt install mecab-ipadic-utf8\n",
        "!apt install file\n",
        "!pip install easyocr opencv-python pyenchant joblib tqdm neologdn pyspellchecker mecab-python3"
      ],
      "execution_count": 1,
      "outputs": [
        {
          "output_type": "stream",
          "name": "stdout",
          "text": [
            "The following additional packages will be installed:\n",
            "  aspell aspell-en dictionaries-common emacsen-common hunspell-en-us\n",
            "  libaspell15 libenchant1c2a libhunspell-1.6-0 libtext-iconv-perl\n",
            "Suggested packages:\n",
            "  aspell-doc spellutils wordlist hunspell openoffice.org-hunspell\n",
            "  | openoffice.org-core libenchant-voikko\n",
            "The following NEW packages will be installed:\n",
            "  aspell aspell-en dictionaries-common emacsen-common enchant hunspell-en-us\n",
            "  libaspell15 libenchant1c2a libhunspell-1.6-0 libtext-iconv-perl\n",
            "0 upgraded, 10 newly installed, 0 to remove and 37 not upgraded.\n",
            "Need to get 1,312 kB of archives.\n",
            "After this operation, 5,353 kB of additional disk space will be used.\n",
            "Preconfiguring packages ...\n",
            "Selecting previously unselected package libtext-iconv-perl.\n",
            "(Reading database ... 155047 files and directories currently installed.)\n",
            "Preparing to unpack .../0-libtext-iconv-perl_1.7-5build6_amd64.deb ...\n",
            "Unpacking libtext-iconv-perl (1.7-5build6) ...\n",
            "Selecting previously unselected package libaspell15:amd64.\n",
            "Preparing to unpack .../1-libaspell15_0.60.7~20110707-4ubuntu0.2_amd64.deb ...\n",
            "Unpacking libaspell15:amd64 (0.60.7~20110707-4ubuntu0.2) ...\n",
            "Selecting previously unselected package emacsen-common.\n",
            "Preparing to unpack .../2-emacsen-common_2.0.8_all.deb ...\n",
            "Unpacking emacsen-common (2.0.8) ...\n",
            "Selecting previously unselected package dictionaries-common.\n",
            "Preparing to unpack .../3-dictionaries-common_1.27.2_all.deb ...\n",
            "Adding 'diversion of /usr/share/dict/words to /usr/share/dict/words.pre-dictionaries-common by dictionaries-common'\n",
            "Unpacking dictionaries-common (1.27.2) ...\n",
            "Selecting previously unselected package aspell.\n",
            "Preparing to unpack .../4-aspell_0.60.7~20110707-4ubuntu0.2_amd64.deb ...\n",
            "Unpacking aspell (0.60.7~20110707-4ubuntu0.2) ...\n",
            "Selecting previously unselected package aspell-en.\n",
            "Preparing to unpack .../5-aspell-en_2017.08.24-0-0.1_all.deb ...\n",
            "Unpacking aspell-en (2017.08.24-0-0.1) ...\n",
            "Selecting previously unselected package hunspell-en-us.\n",
            "Preparing to unpack .../6-hunspell-en-us_1%3a2017.08.24_all.deb ...\n",
            "Unpacking hunspell-en-us (1:2017.08.24) ...\n",
            "Selecting previously unselected package libhunspell-1.6-0:amd64.\n",
            "Preparing to unpack .../7-libhunspell-1.6-0_1.6.2-1_amd64.deb ...\n",
            "Unpacking libhunspell-1.6-0:amd64 (1.6.2-1) ...\n",
            "Selecting previously unselected package libenchant1c2a:amd64.\n",
            "Preparing to unpack .../8-libenchant1c2a_1.6.0-11.1_amd64.deb ...\n",
            "Unpacking libenchant1c2a:amd64 (1.6.0-11.1) ...\n",
            "Selecting previously unselected package enchant.\n",
            "Preparing to unpack .../9-enchant_1.6.0-11.1_amd64.deb ...\n",
            "Unpacking enchant (1.6.0-11.1) ...\n",
            "Setting up libhunspell-1.6-0:amd64 (1.6.2-1) ...\n",
            "Setting up libaspell15:amd64 (0.60.7~20110707-4ubuntu0.2) ...\n",
            "Setting up emacsen-common (2.0.8) ...\n",
            "Setting up libtext-iconv-perl (1.7-5build6) ...\n",
            "Setting up dictionaries-common (1.27.2) ...\n",
            "Setting up aspell (0.60.7~20110707-4ubuntu0.2) ...\n",
            "Setting up hunspell-en-us (1:2017.08.24) ...\n",
            "Setting up libenchant1c2a:amd64 (1.6.0-11.1) ...\n",
            "Setting up aspell-en (2017.08.24-0-0.1) ...\n",
            "Setting up enchant (1.6.0-11.1) ...\n",
            "Processing triggers for libc-bin (2.27-3ubuntu1.3) ...\n",
            "/sbin/ldconfig.real: /usr/local/lib/python3.7/dist-packages/ideep4py/lib/libmkldnn.so.0 is not a symbolic link\n",
            "\n",
            "Processing triggers for man-db (2.8.3-2ubuntu0.1) ...\n",
            "Processing triggers for dictionaries-common (1.27.2) ...\n",
            "aspell-autobuildhash: processing: en [en-common].\n",
            "aspell-autobuildhash: processing: en [en-variant_0].\n",
            "aspell-autobuildhash: processing: en [en-variant_1].\n",
            "aspell-autobuildhash: processing: en [en-variant_2].\n",
            "aspell-autobuildhash: processing: en [en-w_accents-only].\n",
            "aspell-autobuildhash: processing: en [en-wo_accents-only].\n",
            "aspell-autobuildhash: processing: en [en_AU-variant_0].\n",
            "aspell-autobuildhash: processing: en [en_AU-variant_1].\n",
            "aspell-autobuildhash: processing: en [en_AU-w_accents-only].\n",
            "aspell-autobuildhash: processing: en [en_AU-wo_accents-only].\n",
            "aspell-autobuildhash: processing: en [en_CA-variant_0].\n",
            "aspell-autobuildhash: processing: en [en_CA-variant_1].\n",
            "aspell-autobuildhash: processing: en [en_CA-w_accents-only].\n",
            "aspell-autobuildhash: processing: en [en_CA-wo_accents-only].\n",
            "aspell-autobuildhash: processing: en [en_GB-ise-w_accents-only].\n",
            "aspell-autobuildhash: processing: en [en_GB-ise-wo_accents-only].\n",
            "aspell-autobuildhash: processing: en [en_GB-ize-w_accents-only].\n",
            "aspell-autobuildhash: processing: en [en_GB-ize-wo_accents-only].\n",
            "aspell-autobuildhash: processing: en [en_GB-variant_0].\n",
            "aspell-autobuildhash: processing: en [en_GB-variant_1].\n",
            "aspell-autobuildhash: processing: en [en_US-w_accents-only].\n",
            "aspell-autobuildhash: processing: en [en_US-wo_accents-only].\n",
            "Reading package lists... Done\n",
            "Building dependency tree       \n",
            "Reading state information... Done\n",
            "The following additional packages will be installed:\n",
            "  libmecab2 mecab-jumandic mecab-jumandic-utf8 mecab-utils\n",
            "The following NEW packages will be installed:\n",
            "  libmecab2 mecab mecab-jumandic mecab-jumandic-utf8 mecab-utils\n",
            "0 upgraded, 5 newly installed, 0 to remove and 37 not upgraded.\n",
            "Need to get 16.5 MB of archives.\n",
            "After this operation, 219 MB of additional disk space will be used.\n",
            "Get:1 http://archive.ubuntu.com/ubuntu bionic/universe amd64 libmecab2 amd64 0.996-5 [257 kB]\n",
            "Get:2 http://archive.ubuntu.com/ubuntu bionic/universe amd64 mecab-utils amd64 0.996-5 [4,856 B]\n",
            "Get:3 http://archive.ubuntu.com/ubuntu bionic/universe amd64 mecab-jumandic-utf8 all 7.0-20130310-4 [16.2 MB]\n",
            "Get:4 http://archive.ubuntu.com/ubuntu bionic/universe amd64 mecab-jumandic all 7.0-20130310-4 [2,212 B]\n",
            "Get:5 http://archive.ubuntu.com/ubuntu bionic/universe amd64 mecab amd64 0.996-5 [132 kB]\n",
            "Fetched 16.5 MB in 2s (9,417 kB/s)\n",
            "Selecting previously unselected package libmecab2:amd64.\n",
            "(Reading database ... 155461 files and directories currently installed.)\n",
            "Preparing to unpack .../libmecab2_0.996-5_amd64.deb ...\n",
            "Unpacking libmecab2:amd64 (0.996-5) ...\n",
            "Selecting previously unselected package mecab-utils.\n",
            "Preparing to unpack .../mecab-utils_0.996-5_amd64.deb ...\n",
            "Unpacking mecab-utils (0.996-5) ...\n",
            "Selecting previously unselected package mecab-jumandic-utf8.\n",
            "Preparing to unpack .../mecab-jumandic-utf8_7.0-20130310-4_all.deb ...\n",
            "Unpacking mecab-jumandic-utf8 (7.0-20130310-4) ...\n",
            "Selecting previously unselected package mecab-jumandic.\n",
            "Preparing to unpack .../mecab-jumandic_7.0-20130310-4_all.deb ...\n",
            "Unpacking mecab-jumandic (7.0-20130310-4) ...\n",
            "Selecting previously unselected package mecab.\n",
            "Preparing to unpack .../mecab_0.996-5_amd64.deb ...\n",
            "Unpacking mecab (0.996-5) ...\n",
            "Setting up libmecab2:amd64 (0.996-5) ...\n",
            "Setting up mecab-utils (0.996-5) ...\n",
            "Setting up mecab-jumandic-utf8 (7.0-20130310-4) ...\n",
            "Compiling Juman dictionary for Mecab.\n",
            "reading /usr/share/mecab/dic/juman/unk.def ... 37\n",
            "emitting double-array: 100% |###########################################| \n",
            "reading /usr/share/mecab/dic/juman/Auto.csv ... 18931\n",
            "reading /usr/share/mecab/dic/juman/Emoticon.csv ... 972\n",
            "reading /usr/share/mecab/dic/juman/Rengo.csv ... 1118\n",
            "reading /usr/share/mecab/dic/juman/Noun.suusi.csv ... 49\n",
            "reading /usr/share/mecab/dic/juman/Suffix.csv ... 2128\n",
            "reading /usr/share/mecab/dic/juman/Wikipedia.csv ... 167709\n",
            "reading /usr/share/mecab/dic/juman/Noun.keishiki.csv ... 8\n",
            "reading /usr/share/mecab/dic/juman/Special.csv ... 158\n",
            "reading /usr/share/mecab/dic/juman/Noun.hukusi.csv ... 81\n",
            "reading /usr/share/mecab/dic/juman/Postp.csv ... 108\n",
            "reading /usr/share/mecab/dic/juman/ContentW.csv ... 551145\n",
            "reading /usr/share/mecab/dic/juman/AuxV.csv ... 593\n",
            "reading /usr/share/mecab/dic/juman/Prefix.csv ... 90\n",
            "reading /usr/share/mecab/dic/juman/Assert.csv ... 34\n",
            "reading /usr/share/mecab/dic/juman/Demonstrative.csv ... 97\n",
            "reading /usr/share/mecab/dic/juman/Noun.koyuu.csv ... 7964\n",
            "emitting double-array: 100% |###########################################| \n",
            "reading /usr/share/mecab/dic/juman/matrix.def ... 1876x1876\n",
            "emitting matrix      : 100% |###########################################| \n",
            "\n",
            "done!\n",
            "update-alternatives: using /var/lib/mecab/dic/juman-utf8 to provide /var/lib/mecab/dic/debian (mecab-dictionary) in auto mode\n",
            "Setting up mecab (0.996-5) ...\n",
            "Setting up mecab-jumandic (7.0-20130310-4) ...\n",
            "Processing triggers for man-db (2.8.3-2ubuntu0.1) ...\n",
            "Processing triggers for libc-bin (2.27-3ubuntu1.3) ...\n",
            "/sbin/ldconfig.real: /usr/local/lib/python3.7/dist-packages/ideep4py/lib/libmkldnn.so.0 is not a symbolic link\n",
            "\n",
            "Reading package lists... Done\n",
            "Building dependency tree       \n",
            "Reading state information... Done\n",
            "The following NEW packages will be installed:\n",
            "  libmecab-dev\n",
            "0 upgraded, 1 newly installed, 0 to remove and 37 not upgraded.\n",
            "Need to get 308 kB of archives.\n",
            "After this operation, 3,132 kB of additional disk space will be used.\n",
            "Get:1 http://archive.ubuntu.com/ubuntu bionic/universe amd64 libmecab-dev amd64 0.996-5 [308 kB]\n",
            "Fetched 308 kB in 1s (407 kB/s)\n",
            "Selecting previously unselected package libmecab-dev.\n",
            "(Reading database ... 155586 files and directories currently installed.)\n",
            "Preparing to unpack .../libmecab-dev_0.996-5_amd64.deb ...\n",
            "Unpacking libmecab-dev (0.996-5) ...\n",
            "Setting up libmecab-dev (0.996-5) ...\n",
            "Processing triggers for man-db (2.8.3-2ubuntu0.1) ...\n",
            "Reading package lists... Done\n",
            "Building dependency tree       \n",
            "Reading state information... Done\n",
            "The following additional packages will be installed:\n",
            "  mecab-ipadic\n",
            "The following NEW packages will be installed:\n",
            "  mecab-ipadic mecab-ipadic-utf8\n",
            "0 upgraded, 2 newly installed, 0 to remove and 37 not upgraded.\n",
            "Need to get 12.1 MB of archives.\n",
            "After this operation, 54.4 MB of additional disk space will be used.\n",
            "Get:1 http://archive.ubuntu.com/ubuntu bionic/universe amd64 mecab-ipadic all 2.7.0-20070801+main-1 [12.1 MB]\n",
            "Get:2 http://archive.ubuntu.com/ubuntu bionic/universe amd64 mecab-ipadic-utf8 all 2.7.0-20070801+main-1 [3,522 B]\n",
            "Fetched 12.1 MB in 2s (7,797 kB/s)\n",
            "Selecting previously unselected package mecab-ipadic.\n",
            "(Reading database ... 155594 files and directories currently installed.)\n",
            "Preparing to unpack .../mecab-ipadic_2.7.0-20070801+main-1_all.deb ...\n",
            "Unpacking mecab-ipadic (2.7.0-20070801+main-1) ...\n",
            "Selecting previously unselected package mecab-ipadic-utf8.\n",
            "Preparing to unpack .../mecab-ipadic-utf8_2.7.0-20070801+main-1_all.deb ...\n",
            "Unpacking mecab-ipadic-utf8 (2.7.0-20070801+main-1) ...\n",
            "Setting up mecab-ipadic (2.7.0-20070801+main-1) ...\n",
            "Compiling IPA dictionary for Mecab.  This takes long time...\n",
            "reading /usr/share/mecab/dic/ipadic/unk.def ... 40\n",
            "emitting double-array: 100% |###########################################| \n",
            "/usr/share/mecab/dic/ipadic/model.def is not found. skipped.\n",
            "reading /usr/share/mecab/dic/ipadic/Noun.number.csv ... 42\n",
            "reading /usr/share/mecab/dic/ipadic/Interjection.csv ... 252\n",
            "reading /usr/share/mecab/dic/ipadic/Noun.nai.csv ... 42\n",
            "reading /usr/share/mecab/dic/ipadic/Noun.adverbal.csv ... 795\n",
            "reading /usr/share/mecab/dic/ipadic/Noun.name.csv ... 34202\n",
            "reading /usr/share/mecab/dic/ipadic/Suffix.csv ... 1393\n",
            "reading /usr/share/mecab/dic/ipadic/Symbol.csv ... 208\n",
            "reading /usr/share/mecab/dic/ipadic/Noun.others.csv ... 151\n",
            "reading /usr/share/mecab/dic/ipadic/Adj.csv ... 27210\n",
            "reading /usr/share/mecab/dic/ipadic/Noun.place.csv ... 72999\n",
            "reading /usr/share/mecab/dic/ipadic/Noun.proper.csv ... 27327\n",
            "reading /usr/share/mecab/dic/ipadic/Noun.verbal.csv ... 12146\n",
            "reading /usr/share/mecab/dic/ipadic/Adverb.csv ... 3032\n",
            "reading /usr/share/mecab/dic/ipadic/Postp-col.csv ... 91\n",
            "reading /usr/share/mecab/dic/ipadic/Auxil.csv ... 199\n",
            "reading /usr/share/mecab/dic/ipadic/Noun.adjv.csv ... 3328\n",
            "reading /usr/share/mecab/dic/ipadic/Noun.org.csv ... 16668\n",
            "reading /usr/share/mecab/dic/ipadic/Filler.csv ... 19\n",
            "reading /usr/share/mecab/dic/ipadic/Postp.csv ... 146\n",
            "reading /usr/share/mecab/dic/ipadic/Others.csv ... 2\n",
            "reading /usr/share/mecab/dic/ipadic/Adnominal.csv ... 135\n",
            "reading /usr/share/mecab/dic/ipadic/Noun.csv ... 60477\n",
            "reading /usr/share/mecab/dic/ipadic/Noun.demonst.csv ... 120\n",
            "reading /usr/share/mecab/dic/ipadic/Prefix.csv ... 221\n",
            "reading /usr/share/mecab/dic/ipadic/Verb.csv ... 130750\n",
            "reading /usr/share/mecab/dic/ipadic/Conjunction.csv ... 171\n",
            "emitting double-array: 100% |###########################################| \n",
            "reading /usr/share/mecab/dic/ipadic/matrix.def ... 1316x1316\n",
            "emitting matrix      : 100% |###########################################| \n",
            "\n",
            "done!\n",
            "update-alternatives: using /var/lib/mecab/dic/ipadic to provide /var/lib/mecab/dic/debian (mecab-dictionary) in auto mode\n",
            "Setting up mecab-ipadic-utf8 (2.7.0-20070801+main-1) ...\n",
            "Compiling IPA dictionary for Mecab.  This takes long time...\n",
            "reading /usr/share/mecab/dic/ipadic/unk.def ... 40\n",
            "emitting double-array: 100% |###########################################| \n",
            "/usr/share/mecab/dic/ipadic/model.def is not found. skipped.\n",
            "reading /usr/share/mecab/dic/ipadic/Noun.number.csv ... 42\n",
            "reading /usr/share/mecab/dic/ipadic/Interjection.csv ... 252\n",
            "reading /usr/share/mecab/dic/ipadic/Noun.nai.csv ... 42\n",
            "reading /usr/share/mecab/dic/ipadic/Noun.adverbal.csv ... 795\n",
            "reading /usr/share/mecab/dic/ipadic/Noun.name.csv ... 34202\n",
            "reading /usr/share/mecab/dic/ipadic/Suffix.csv ... 1393\n",
            "reading /usr/share/mecab/dic/ipadic/Symbol.csv ... 208\n",
            "reading /usr/share/mecab/dic/ipadic/Noun.others.csv ... 151\n",
            "reading /usr/share/mecab/dic/ipadic/Adj.csv ... 27210\n",
            "reading /usr/share/mecab/dic/ipadic/Noun.place.csv ... 72999\n",
            "reading /usr/share/mecab/dic/ipadic/Noun.proper.csv ... 27327\n",
            "reading /usr/share/mecab/dic/ipadic/Noun.verbal.csv ... 12146\n",
            "reading /usr/share/mecab/dic/ipadic/Adverb.csv ... 3032\n",
            "reading /usr/share/mecab/dic/ipadic/Postp-col.csv ... 91\n",
            "reading /usr/share/mecab/dic/ipadic/Auxil.csv ... 199\n",
            "reading /usr/share/mecab/dic/ipadic/Noun.adjv.csv ... 3328\n",
            "reading /usr/share/mecab/dic/ipadic/Noun.org.csv ... 16668\n",
            "reading /usr/share/mecab/dic/ipadic/Filler.csv ... 19\n",
            "reading /usr/share/mecab/dic/ipadic/Postp.csv ... 146\n",
            "reading /usr/share/mecab/dic/ipadic/Others.csv ... 2\n",
            "reading /usr/share/mecab/dic/ipadic/Adnominal.csv ... 135\n",
            "reading /usr/share/mecab/dic/ipadic/Noun.csv ... 60477\n",
            "reading /usr/share/mecab/dic/ipadic/Noun.demonst.csv ... 120\n",
            "reading /usr/share/mecab/dic/ipadic/Prefix.csv ... 221\n",
            "reading /usr/share/mecab/dic/ipadic/Verb.csv ... 130750\n",
            "reading /usr/share/mecab/dic/ipadic/Conjunction.csv ... 171\n",
            "emitting double-array: 100% |###########################################| \n",
            "reading /usr/share/mecab/dic/ipadic/matrix.def ... 1316x1316\n",
            "emitting matrix      : 100% |###########################################| \n",
            "\n",
            "done!\n",
            "update-alternatives: using /var/lib/mecab/dic/ipadic-utf8 to provide /var/lib/mecab/dic/debian (mecab-dictionary) in auto mode\n",
            "Reading package lists... Done\n",
            "Building dependency tree       \n",
            "Reading state information... Done\n",
            "The following additional packages will be installed:\n",
            "  libmagic-mgc libmagic1\n",
            "The following NEW packages will be installed:\n",
            "  file libmagic-mgc libmagic1\n",
            "0 upgraded, 3 newly installed, 0 to remove and 37 not upgraded.\n",
            "Need to get 275 kB of archives.\n",
            "After this operation, 5,297 kB of additional disk space will be used.\n",
            "Get:1 http://archive.ubuntu.com/ubuntu bionic-updates/main amd64 libmagic-mgc amd64 1:5.32-2ubuntu0.4 [184 kB]\n",
            "Get:2 http://archive.ubuntu.com/ubuntu bionic-updates/main amd64 libmagic1 amd64 1:5.32-2ubuntu0.4 [68.6 kB]\n",
            "Get:3 http://archive.ubuntu.com/ubuntu bionic-updates/main amd64 file amd64 1:5.32-2ubuntu0.4 [22.1 kB]\n",
            "Fetched 275 kB in 1s (332 kB/s)\n",
            "Selecting previously unselected package libmagic-mgc.\n",
            "(Reading database ... 155639 files and directories currently installed.)\n",
            "Preparing to unpack .../libmagic-mgc_1%3a5.32-2ubuntu0.4_amd64.deb ...\n",
            "Unpacking libmagic-mgc (1:5.32-2ubuntu0.4) ...\n",
            "Selecting previously unselected package libmagic1:amd64.\n",
            "Preparing to unpack .../libmagic1_1%3a5.32-2ubuntu0.4_amd64.deb ...\n",
            "Unpacking libmagic1:amd64 (1:5.32-2ubuntu0.4) ...\n",
            "Selecting previously unselected package file.\n",
            "Preparing to unpack .../file_1%3a5.32-2ubuntu0.4_amd64.deb ...\n",
            "Unpacking file (1:5.32-2ubuntu0.4) ...\n",
            "Setting up libmagic-mgc (1:5.32-2ubuntu0.4) ...\n",
            "Setting up libmagic1:amd64 (1:5.32-2ubuntu0.4) ...\n",
            "Setting up file (1:5.32-2ubuntu0.4) ...\n",
            "Processing triggers for man-db (2.8.3-2ubuntu0.1) ...\n",
            "Processing triggers for libc-bin (2.27-3ubuntu1.3) ...\n",
            "/sbin/ldconfig.real: /usr/local/lib/python3.7/dist-packages/ideep4py/lib/libmkldnn.so.0 is not a symbolic link\n",
            "\n",
            "Collecting easyocr\n",
            "  Downloading easyocr-1.4.1-py3-none-any.whl (63.6 MB)\n",
            "\u001b[K     |████████████████████████████████| 63.6 MB 20 kB/s \n",
            "\u001b[?25hRequirement already satisfied: opencv-python in /usr/local/lib/python3.7/dist-packages (4.1.2.30)\n",
            "Collecting pyenchant\n",
            "  Downloading pyenchant-3.2.2-py3-none-any.whl (55 kB)\n",
            "\u001b[K     |████████████████████████████████| 55 kB 3.6 MB/s \n",
            "\u001b[?25hRequirement already satisfied: joblib in /usr/local/lib/python3.7/dist-packages (1.0.1)\n",
            "Requirement already satisfied: tqdm in /usr/local/lib/python3.7/dist-packages (4.62.3)\n",
            "Collecting neologdn\n",
            "  Downloading neologdn-0.5.1.tar.gz (57 kB)\n",
            "\u001b[K     |████████████████████████████████| 57 kB 4.9 MB/s \n",
            "\u001b[?25hCollecting pyspellchecker\n",
            "  Downloading pyspellchecker-0.6.2-py3-none-any.whl (2.7 MB)\n",
            "\u001b[K     |████████████████████████████████| 2.7 MB 38.4 MB/s \n",
            "\u001b[?25hCollecting mecab-python3\n",
            "  Downloading mecab_python3-1.0.4-cp37-cp37m-manylinux_2_5_x86_64.manylinux1_x86_64.whl (488 kB)\n",
            "\u001b[K     |████████████████████████████████| 488 kB 44.8 MB/s \n",
            "\u001b[?25hRequirement already satisfied: PyYAML in /usr/local/lib/python3.7/dist-packages (from easyocr) (3.13)\n",
            "Requirement already satisfied: scikit-image in /usr/local/lib/python3.7/dist-packages (from easyocr) (0.16.2)\n",
            "Requirement already satisfied: Pillow<8.3.0 in /usr/local/lib/python3.7/dist-packages (from easyocr) (7.1.2)\n",
            "Requirement already satisfied: scipy in /usr/local/lib/python3.7/dist-packages (from easyocr) (1.4.1)\n",
            "Collecting python-bidi\n",
            "  Downloading python_bidi-0.4.2-py2.py3-none-any.whl (30 kB)\n",
            "Collecting opencv-python-headless\n",
            "  Downloading opencv_python_headless-4.5.3.56-cp37-cp37m-manylinux2014_x86_64.whl (37.1 MB)\n",
            "\u001b[K     |████████████████████████████████| 37.1 MB 49 kB/s \n",
            "\u001b[?25hRequirement already satisfied: numpy in /usr/local/lib/python3.7/dist-packages (from easyocr) (1.19.5)\n",
            "Requirement already satisfied: torch in /usr/local/lib/python3.7/dist-packages (from easyocr) (1.9.0+cu111)\n",
            "Requirement already satisfied: torchvision>=0.5 in /usr/local/lib/python3.7/dist-packages (from easyocr) (0.10.0+cu111)\n",
            "Requirement already satisfied: typing-extensions in /usr/local/lib/python3.7/dist-packages (from torch->easyocr) (3.7.4.3)\n",
            "Requirement already satisfied: six in /usr/local/lib/python3.7/dist-packages (from python-bidi->easyocr) (1.15.0)\n",
            "Requirement already satisfied: networkx>=2.0 in /usr/local/lib/python3.7/dist-packages (from scikit-image->easyocr) (2.6.3)\n",
            "Requirement already satisfied: imageio>=2.3.0 in /usr/local/lib/python3.7/dist-packages (from scikit-image->easyocr) (2.4.1)\n",
            "Requirement already satisfied: PyWavelets>=0.4.0 in /usr/local/lib/python3.7/dist-packages (from scikit-image->easyocr) (1.1.1)\n",
            "Requirement already satisfied: matplotlib!=3.0.0,>=2.0.0 in /usr/local/lib/python3.7/dist-packages (from scikit-image->easyocr) (3.2.2)\n",
            "Requirement already satisfied: pyparsing!=2.0.4,!=2.1.2,!=2.1.6,>=2.0.1 in /usr/local/lib/python3.7/dist-packages (from matplotlib!=3.0.0,>=2.0.0->scikit-image->easyocr) (2.4.7)\n",
            "Requirement already satisfied: kiwisolver>=1.0.1 in /usr/local/lib/python3.7/dist-packages (from matplotlib!=3.0.0,>=2.0.0->scikit-image->easyocr) (1.3.2)\n",
            "Requirement already satisfied: cycler>=0.10 in /usr/local/lib/python3.7/dist-packages (from matplotlib!=3.0.0,>=2.0.0->scikit-image->easyocr) (0.10.0)\n",
            "Requirement already satisfied: python-dateutil>=2.1 in /usr/local/lib/python3.7/dist-packages (from matplotlib!=3.0.0,>=2.0.0->scikit-image->easyocr) (2.8.2)\n",
            "Building wheels for collected packages: neologdn\n",
            "  Building wheel for neologdn (setup.py) ... \u001b[?25l\u001b[?25hdone\n",
            "  Created wheel for neologdn: filename=neologdn-0.5.1-cp37-cp37m-linux_x86_64.whl size=172995 sha256=76d515b1123176c6dd1b526642ca45007b89492ad83946b9cb7ae437ca01b9dc\n",
            "  Stored in directory: /root/.cache/pip/wheels/19/15/5c/55b33d02e16129ef81313e4c86e473d6dd1cecf7317a525a9b\n",
            "Successfully built neologdn\n",
            "Installing collected packages: python-bidi, opencv-python-headless, pyspellchecker, pyenchant, neologdn, mecab-python3, easyocr\n",
            "Successfully installed easyocr-1.4.1 mecab-python3-1.0.4 neologdn-0.5.1 opencv-python-headless-4.5.3.56 pyenchant-3.2.2 pyspellchecker-0.6.2 python-bidi-0.4.2\n"
          ]
        }
      ]
    },
    {
      "cell_type": "code",
      "metadata": {
        "id": "zVRrka05PQWD",
        "colab": {
          "base_uri": "https://localhost:8080/"
        },
        "outputId": "38ef6c62-5e91-4ad6-c9f5-843865f84f24"
      },
      "source": [
        "# neologd settings　・辞書インストール\n",
        "!git clone https://github.com/neologd/mecab-ipadic-neologd.git\n",
        "%cd mecab-ipadic-neologd\n",
        "!bin/install-mecab-ipadic-neologd -y\n",
        "%cd ../"
      ],
      "execution_count": 4,
      "outputs": [
        {
          "output_type": "stream",
          "name": "stdout",
          "text": [
            "Cloning into 'mecab-ipadic-neologd'...\n",
            "remote: Enumerating objects: 9210, done.\u001b[K\n",
            "remote: Total 9210 (delta 0), reused 0 (delta 0), pack-reused 9210\u001b[K\n",
            "Receiving objects: 100% (9210/9210), 452.82 MiB | 38.04 MiB/s, done.\n",
            "Resolving deltas: 100% (5319/5319), done.\n",
            "/content/mecab-ipadic-neologd\n",
            "[install-mecab-ipadic-NEologd] : Start..\n",
            "[install-mecab-ipadic-NEologd] : Check the existance of libraries\n",
            "[install-mecab-ipadic-NEologd] :     find => ok\n",
            "[install-mecab-ipadic-NEologd] :     sort => ok\n",
            "[install-mecab-ipadic-NEologd] :     head => ok\n",
            "[install-mecab-ipadic-NEologd] :     cut => ok\n",
            "[install-mecab-ipadic-NEologd] :     egrep => ok\n",
            "[install-mecab-ipadic-NEologd] :     mecab => ok\n",
            "[install-mecab-ipadic-NEologd] :     mecab-config => ok\n",
            "[install-mecab-ipadic-NEologd] :     make => ok\n",
            "[install-mecab-ipadic-NEologd] :     curl => ok\n",
            "[install-mecab-ipadic-NEologd] :     sed => ok\n",
            "[install-mecab-ipadic-NEologd] :     cat => ok\n",
            "[install-mecab-ipadic-NEologd] :     diff => ok\n",
            "[install-mecab-ipadic-NEologd] :     tar => ok\n",
            "[install-mecab-ipadic-NEologd] :     unxz => ok\n",
            "[install-mecab-ipadic-NEologd] :     xargs => ok\n",
            "[install-mecab-ipadic-NEologd] :     grep => ok\n",
            "[install-mecab-ipadic-NEologd] :     iconv => ok\n",
            "[install-mecab-ipadic-NEologd] :     patch => ok\n",
            "[install-mecab-ipadic-NEologd] :     which => ok\n",
            "[install-mecab-ipadic-NEologd] :     file => ok\n",
            "[install-mecab-ipadic-NEologd] :     openssl => ok\n",
            "[install-mecab-ipadic-NEologd] :     awk => ok\n",
            "[install-mecab-ipadic-NEologd] : You should execute the following command if you want to install newest version of mecab-ipadic-NEologd\n",
            "\n",
            "    $ bin/install-mecab-ipadic-neologd -n\n",
            "\n",
            "\n",
            "[install-mecab-ipadic-NEologd] : mecab-ipadic-NEologd will be install to /usr/lib/x86_64-linux-gnu/mecab/dic/mecab-ipadic-neologd\n",
            "\n",
            "[install-mecab-ipadic-NEologd] : Make mecab-ipadic-NEologd\n",
            "[make-mecab-ipadic-NEologd] : Start..\n",
            "[make-mecab-ipadic-NEologd] : Check local seed directory\n",
            "[make-mecab-ipadic-NEologd] : Check local seed file\n",
            "[make-mecab-ipadic-NEologd] : Check local build directory\n",
            "[make-mecab-ipadic-NEologd] : create /content/mecab-ipadic-neologd/libexec/../build\n",
            "[make-mecab-ipadic-NEologd] : Download original mecab-ipadic file\n",
            "[make-mecab-ipadic-NEologd] : Try to access to https://ja.osdn.net\n",
            "[make-mecab-ipadic-NEologd] : Try to download from https://ja.osdn.net/frs/g_redir.php?m=kent&f=mecab%2Fmecab-ipadic%2F2.7.0-20070801%2Fmecab-ipadic-2.7.0-20070801.tar.gz\n",
            "  % Total    % Received % Xferd  Average Speed   Time    Time     Time  Current\n",
            "                                 Dload  Upload   Total   Spent    Left  Speed\n",
            "  0     0    0     0    0     0      0      0 --:--:-- --:--:-- --:--:--     0\n",
            "100 11.6M  100 11.6M    0     0  19.8M      0 --:--:-- --:--:-- --:--:-- 19.8M\n",
            "Hash value of /content/mecab-ipadic-neologd/libexec/../build/mecab-ipadic-2.7.0-20070801.tar.gz matched\n",
            "[make-mecab-ipadic-NEologd] : Decompress original mecab-ipadic file\n",
            "mecab-ipadic-2.7.0-20070801/\n",
            "mecab-ipadic-2.7.0-20070801/README\n",
            "mecab-ipadic-2.7.0-20070801/AUTHORS\n",
            "mecab-ipadic-2.7.0-20070801/COPYING\n",
            "mecab-ipadic-2.7.0-20070801/ChangeLog\n",
            "mecab-ipadic-2.7.0-20070801/INSTALL\n",
            "mecab-ipadic-2.7.0-20070801/Makefile.am\n",
            "mecab-ipadic-2.7.0-20070801/Makefile.in\n",
            "mecab-ipadic-2.7.0-20070801/NEWS\n",
            "mecab-ipadic-2.7.0-20070801/aclocal.m4\n",
            "mecab-ipadic-2.7.0-20070801/config.guess\n",
            "mecab-ipadic-2.7.0-20070801/config.sub\n",
            "mecab-ipadic-2.7.0-20070801/configure\n",
            "mecab-ipadic-2.7.0-20070801/configure.in\n",
            "mecab-ipadic-2.7.0-20070801/install-sh\n",
            "mecab-ipadic-2.7.0-20070801/missing\n",
            "mecab-ipadic-2.7.0-20070801/mkinstalldirs\n",
            "mecab-ipadic-2.7.0-20070801/Adj.csv\n",
            "mecab-ipadic-2.7.0-20070801/Adnominal.csv\n",
            "mecab-ipadic-2.7.0-20070801/Adverb.csv\n",
            "mecab-ipadic-2.7.0-20070801/Auxil.csv\n",
            "mecab-ipadic-2.7.0-20070801/Conjunction.csv\n",
            "mecab-ipadic-2.7.0-20070801/Filler.csv\n",
            "mecab-ipadic-2.7.0-20070801/Interjection.csv\n",
            "mecab-ipadic-2.7.0-20070801/Noun.adjv.csv\n",
            "mecab-ipadic-2.7.0-20070801/Noun.adverbal.csv\n",
            "mecab-ipadic-2.7.0-20070801/Noun.csv\n",
            "mecab-ipadic-2.7.0-20070801/Noun.demonst.csv\n",
            "mecab-ipadic-2.7.0-20070801/Noun.nai.csv\n",
            "mecab-ipadic-2.7.0-20070801/Noun.name.csv\n",
            "mecab-ipadic-2.7.0-20070801/Noun.number.csv\n",
            "mecab-ipadic-2.7.0-20070801/Noun.org.csv\n",
            "mecab-ipadic-2.7.0-20070801/Noun.others.csv\n",
            "mecab-ipadic-2.7.0-20070801/Noun.place.csv\n",
            "mecab-ipadic-2.7.0-20070801/Noun.proper.csv\n",
            "mecab-ipadic-2.7.0-20070801/Noun.verbal.csv\n",
            "mecab-ipadic-2.7.0-20070801/Others.csv\n",
            "mecab-ipadic-2.7.0-20070801/Postp-col.csv\n",
            "mecab-ipadic-2.7.0-20070801/Postp.csv\n",
            "mecab-ipadic-2.7.0-20070801/Prefix.csv\n",
            "mecab-ipadic-2.7.0-20070801/Suffix.csv\n",
            "mecab-ipadic-2.7.0-20070801/Symbol.csv\n",
            "mecab-ipadic-2.7.0-20070801/Verb.csv\n",
            "mecab-ipadic-2.7.0-20070801/char.def\n",
            "mecab-ipadic-2.7.0-20070801/feature.def\n",
            "mecab-ipadic-2.7.0-20070801/left-id.def\n",
            "mecab-ipadic-2.7.0-20070801/matrix.def\n",
            "mecab-ipadic-2.7.0-20070801/pos-id.def\n",
            "mecab-ipadic-2.7.0-20070801/rewrite.def\n",
            "mecab-ipadic-2.7.0-20070801/right-id.def\n",
            "mecab-ipadic-2.7.0-20070801/unk.def\n",
            "mecab-ipadic-2.7.0-20070801/dicrc\n",
            "mecab-ipadic-2.7.0-20070801/RESULT\n",
            "[make-mecab-ipadic-NEologd] : Configure custom system dictionary on /content/mecab-ipadic-neologd/libexec/../build/mecab-ipadic-2.7.0-20070801-neologd-20200910\n",
            "checking for a BSD-compatible install... /usr/bin/install -c\n",
            "checking whether build environment is sane... yes\n",
            "checking whether make sets $(MAKE)... yes\n",
            "checking for working aclocal-1.4... missing\n",
            "checking for working autoconf... missing\n",
            "checking for working automake-1.4... missing\n",
            "checking for working autoheader... missing\n",
            "checking for working makeinfo... missing\n",
            "checking for a BSD-compatible install... /usr/bin/install -c\n",
            "checking for mecab-config... /usr/bin/mecab-config\n",
            "configure: creating ./config.status\n",
            "config.status: creating Makefile\n",
            "[make-mecab-ipadic-NEologd] : Encode the character encoding of system dictionary resources from EUC_JP to UTF-8\n",
            "./../../libexec/iconv_euc_to_utf8.sh ./Noun.number.csv \n",
            "./../../libexec/iconv_euc_to_utf8.sh ./Interjection.csv \n",
            "./../../libexec/iconv_euc_to_utf8.sh ./Noun.nai.csv \n",
            "./../../libexec/iconv_euc_to_utf8.sh ./Noun.adverbal.csv \n",
            "./../../libexec/iconv_euc_to_utf8.sh ./Noun.name.csv \n",
            "./../../libexec/iconv_euc_to_utf8.sh ./Suffix.csv \n",
            "./../../libexec/iconv_euc_to_utf8.sh ./Symbol.csv \n",
            "./../../libexec/iconv_euc_to_utf8.sh ./Noun.others.csv \n",
            "./../../libexec/iconv_euc_to_utf8.sh ./Adj.csv \n",
            "./../../libexec/iconv_euc_to_utf8.sh ./Noun.place.csv \n",
            "./../../libexec/iconv_euc_to_utf8.sh ./Noun.proper.csv \n",
            "./../../libexec/iconv_euc_to_utf8.sh ./Noun.verbal.csv \n",
            "./../../libexec/iconv_euc_to_utf8.sh ./Adverb.csv \n",
            "./../../libexec/iconv_euc_to_utf8.sh ./Postp-col.csv \n",
            "./../../libexec/iconv_euc_to_utf8.sh ./Auxil.csv \n",
            "./../../libexec/iconv_euc_to_utf8.sh ./Noun.adjv.csv \n",
            "./../../libexec/iconv_euc_to_utf8.sh ./Noun.org.csv \n",
            "./../../libexec/iconv_euc_to_utf8.sh ./Filler.csv \n",
            "./../../libexec/iconv_euc_to_utf8.sh ./Postp.csv \n",
            "./../../libexec/iconv_euc_to_utf8.sh ./Others.csv \n",
            "./../../libexec/iconv_euc_to_utf8.sh ./Adnominal.csv \n",
            "./../../libexec/iconv_euc_to_utf8.sh ./Noun.csv \n",
            "./../../libexec/iconv_euc_to_utf8.sh ./Noun.demonst.csv \n",
            "./../../libexec/iconv_euc_to_utf8.sh ./Prefix.csv \n",
            "./../../libexec/iconv_euc_to_utf8.sh ./Verb.csv \n",
            "./../../libexec/iconv_euc_to_utf8.sh ./Conjunction.csv \n",
            "rm ./Noun.number.csv \n",
            "rm ./Interjection.csv \n",
            "rm ./Noun.nai.csv \n",
            "rm ./Noun.adverbal.csv \n",
            "rm ./Noun.name.csv \n",
            "rm ./Suffix.csv \n",
            "rm ./Symbol.csv \n",
            "rm ./Noun.others.csv \n",
            "rm ./Adj.csv \n",
            "rm ./Noun.place.csv \n",
            "rm ./Noun.proper.csv \n",
            "rm ./Noun.verbal.csv \n",
            "rm ./Adverb.csv \n",
            "rm ./Postp-col.csv \n",
            "rm ./Auxil.csv \n",
            "rm ./Noun.adjv.csv \n",
            "rm ./Noun.org.csv \n",
            "rm ./Filler.csv \n",
            "rm ./Postp.csv \n",
            "rm ./Others.csv \n",
            "rm ./Adnominal.csv \n",
            "rm ./Noun.csv \n",
            "rm ./Noun.demonst.csv \n",
            "rm ./Prefix.csv \n",
            "rm ./Verb.csv \n",
            "rm ./Conjunction.csv \n",
            "./../../libexec/iconv_euc_to_utf8.sh ./rewrite.def \n",
            "./../../libexec/iconv_euc_to_utf8.sh ./pos-id.def \n",
            "./../../libexec/iconv_euc_to_utf8.sh ./char.def \n",
            "./../../libexec/iconv_euc_to_utf8.sh ./matrix.def \n",
            "./../../libexec/iconv_euc_to_utf8.sh ./feature.def \n",
            "./../../libexec/iconv_euc_to_utf8.sh ./unk.def \n",
            "./../../libexec/iconv_euc_to_utf8.sh ./right-id.def \n",
            "./../../libexec/iconv_euc_to_utf8.sh ./left-id.def \n",
            "rm ./rewrite.def \n",
            "rm ./pos-id.def \n",
            "rm ./char.def \n",
            "rm ./matrix.def \n",
            "rm ./feature.def \n",
            "rm ./unk.def \n",
            "rm ./right-id.def \n",
            "rm ./left-id.def \n",
            "mv ./Conjunction.csv.utf8 ./Conjunction.csv \n",
            "mv ./Auxil.csv.utf8 ./Auxil.csv \n",
            "mv ./Noun.name.csv.utf8 ./Noun.name.csv \n",
            "mv ./Noun.number.csv.utf8 ./Noun.number.csv \n",
            "mv ./Noun.adjv.csv.utf8 ./Noun.adjv.csv \n",
            "mv ./unk.def.utf8 ./unk.def \n",
            "mv ./Symbol.csv.utf8 ./Symbol.csv \n",
            "mv ./Noun.adverbal.csv.utf8 ./Noun.adverbal.csv \n",
            "mv ./Postp-col.csv.utf8 ./Postp-col.csv \n",
            "mv ./feature.def.utf8 ./feature.def \n",
            "mv ./Others.csv.utf8 ./Others.csv \n",
            "mv ./Adverb.csv.utf8 ./Adverb.csv \n",
            "mv ./char.def.utf8 ./char.def \n",
            "mv ./Noun.others.csv.utf8 ./Noun.others.csv \n",
            "mv ./Prefix.csv.utf8 ./Prefix.csv \n",
            "mv ./Noun.nai.csv.utf8 ./Noun.nai.csv \n",
            "mv ./Adnominal.csv.utf8 ./Adnominal.csv \n",
            "mv ./left-id.def.utf8 ./left-id.def \n",
            "mv ./pos-id.def.utf8 ./pos-id.def \n",
            "mv ./Noun.proper.csv.utf8 ./Noun.proper.csv \n",
            "mv ./matrix.def.utf8 ./matrix.def \n",
            "mv ./Verb.csv.utf8 ./Verb.csv \n",
            "mv ./Noun.csv.utf8 ./Noun.csv \n",
            "mv ./Adj.csv.utf8 ./Adj.csv \n",
            "mv ./Filler.csv.utf8 ./Filler.csv \n",
            "mv ./Suffix.csv.utf8 ./Suffix.csv \n",
            "mv ./Noun.verbal.csv.utf8 ./Noun.verbal.csv \n",
            "mv ./Interjection.csv.utf8 ./Interjection.csv \n",
            "mv ./Noun.org.csv.utf8 ./Noun.org.csv \n",
            "mv ./rewrite.def.utf8 ./rewrite.def \n",
            "mv ./Postp.csv.utf8 ./Postp.csv \n",
            "mv ./Noun.demonst.csv.utf8 ./Noun.demonst.csv \n",
            "mv ./right-id.def.utf8 ./right-id.def \n",
            "mv ./Noun.place.csv.utf8 ./Noun.place.csv \n",
            "[make-mecab-ipadic-NEologd] : Fix yomigana field of IPA dictionary\n",
            "patching file Noun.csv\n",
            "patching file Noun.place.csv\n",
            "patching file Verb.csv\n",
            "patching file Noun.verbal.csv\n",
            "patching file Noun.name.csv\n",
            "patching file Noun.adverbal.csv\n",
            "patching file Noun.csv\n",
            "patching file Noun.name.csv\n",
            "patching file Noun.org.csv\n",
            "patching file Noun.others.csv\n",
            "patching file Noun.place.csv\n",
            "patching file Noun.proper.csv\n",
            "patching file Noun.verbal.csv\n",
            "patching file Prefix.csv\n",
            "patching file Suffix.csv\n",
            "patching file Noun.proper.csv\n",
            "patching file Noun.csv\n",
            "patching file Noun.name.csv\n",
            "patching file Noun.org.csv\n",
            "patching file Noun.place.csv\n",
            "patching file Noun.proper.csv\n",
            "patching file Noun.verbal.csv\n",
            "patching file Noun.name.csv\n",
            "patching file Noun.org.csv\n",
            "patching file Noun.place.csv\n",
            "patching file Noun.proper.csv\n",
            "patching file Suffix.csv\n",
            "patching file Noun.demonst.csv\n",
            "patching file Noun.csv\n",
            "patching file Noun.name.csv\n",
            "[make-mecab-ipadic-NEologd] : Copy user dictionary resource\n",
            "[make-mecab-ipadic-NEologd] : Install adverb entries using /content/mecab-ipadic-neologd/libexec/../seed/neologd-adverb-dict-seed.20150623.csv.xz\n",
            "[make-mecab-ipadic-NEologd] : Install interjection entries using /content/mecab-ipadic-neologd/libexec/../seed/neologd-interjection-dict-seed.20170216.csv.xz\n",
            "[make-mecab-ipadic-NEologd] : Install noun orthographic variant entries using /content/mecab-ipadic-neologd/libexec/../seed/neologd-common-noun-ortho-variant-dict-seed.20170228.csv.xz\n",
            "[make-mecab-ipadic-NEologd] : Install noun orthographic variant entries using /content/mecab-ipadic-neologd/libexec/../seed/neologd-proper-noun-ortho-variant-dict-seed.20161110.csv.xz\n",
            "[make-mecab-ipadic-NEologd] : Install entries of orthographic variant of a noun used as verb form using /content/mecab-ipadic-neologd/libexec/../seed/neologd-noun-sahen-conn-ortho-variant-dict-seed.20160323.csv.xz\n",
            "[make-mecab-ipadic-NEologd] : Install frequent adjective orthographic variant entries using /content/mecab-ipadic-neologd/libexec/../seed/neologd-adjective-std-dict-seed.20151126.csv.xz\n",
            "[make-mecab-ipadic-NEologd] : Not install /content/mecab-ipadic-neologd/libexec/../seed/neologd-adjective-exp-dict-seed.20151126.csv.xz\n",
            "[make-mecab-ipadic-NEologd] :     When you install neologd-adjective-exp-dict-seed.20151126.csv.xz, please set --install_adjective_exp option\n",
            "\n",
            "[make-mecab-ipadic-NEologd] : Install adjective verb orthographic variant entries using /content/mecab-ipadic-neologd/libexec/../seed/neologd-adjective-verb-dict-seed.20160324.csv.xz\n",
            "[make-mecab-ipadic-NEologd] : Not install /content/mecab-ipadic-neologd/libexec/../seed/neologd-date-time-infreq-dict-seed.20190415.csv.xz\n",
            "[make-mecab-ipadic-NEologd] :     When you install neologd-date-time-infreq-dict-seed.20190415.csv.xz, please set --install_infreq_datetime option\n",
            "\n",
            "[make-mecab-ipadic-NEologd] : Not install /content/mecab-ipadic-neologd/libexec/../seed/neologd-quantity-infreq-dict-seed.20190415.csv.xz\n",
            "[make-mecab-ipadic-NEologd] :     When you install neologd-quantity-infreq-dict-seed.20190415.csv.xz, please set --install_infreq_quantity option\n",
            "\n",
            "[make-mecab-ipadic-NEologd] : Install entries of ill formed words using /content/mecab-ipadic-neologd/libexec/../seed/neologd-ill-formed-words-dict-seed.20170127.csv.xz\n",
            "[make-mecab-ipadic-NEologd] : Re-Index system dictionary\n",
            "reading ./unk.def ... 40\n",
            "emitting double-array: 100% |###########################################| \n",
            "./model.def is not found. skipped.\n",
            "reading ./Noun.number.csv ... 42\n",
            "reading ./mecab-user-dict-seed.20200910.csv ... 3224584\n",
            "reading ./Interjection.csv ... 252\n",
            "reading ./neologd-ill-formed-words-dict-seed.20170127.csv ... 60616\n",
            "reading ./Noun.nai.csv ... 42\n",
            "reading ./Noun.adverbal.csv ... 808\n",
            "reading ./neologd-common-noun-ortho-variant-dict-seed.20170228.csv ... 152869\n",
            "reading ./neologd-adjective-std-dict-seed.20151126.csv ... 507812\n",
            "reading ./Noun.name.csv ... 34215\n",
            "reading ./Suffix.csv ... 1448\n",
            "reading ./Symbol.csv ... 208\n",
            "reading ./Noun.others.csv ... 153\n",
            "reading ./neologd-proper-noun-ortho-variant-dict-seed.20161110.csv ... 138379\n",
            "reading ./Adj.csv ... 27210\n",
            "reading ./neologd-noun-sahen-conn-ortho-variant-dict-seed.20160323.csv ... 26058\n",
            "reading ./neologd-adjective-verb-dict-seed.20160324.csv ... 20268\n",
            "reading ./Noun.place.csv ... 73194\n",
            "reading ./Noun.proper.csv ... 27493\n",
            "reading ./Noun.verbal.csv ... 12150\n",
            "reading ./Adverb.csv ... 3032\n",
            "reading ./Postp-col.csv ... 91\n",
            "reading ./Auxil.csv ... 199\n",
            "reading ./Noun.adjv.csv ... 3328\n",
            "reading ./Noun.org.csv ... 17149\n",
            "reading ./Filler.csv ... 19\n",
            "reading ./Postp.csv ... 146\n",
            "reading ./Others.csv ... 2\n",
            "reading ./Adnominal.csv ... 135\n",
            "reading ./neologd-adverb-dict-seed.20150623.csv ... 139792\n",
            "reading ./neologd-interjection-dict-seed.20170216.csv ... 4701\n",
            "reading ./Noun.csv ... 60734\n",
            "reading ./Noun.demonst.csv ... 120\n",
            "reading ./Prefix.csv ... 224\n",
            "reading ./Verb.csv ... 130750\n",
            "reading ./Conjunction.csv ... 171\n",
            "emitting double-array: 100% |###########################################| \n",
            "reading ./matrix.def ... 1316x1316\n",
            "emitting matrix      : 100% |###########################################| \n",
            "\n",
            "done!\n",
            "[make-mecab-ipadic-NEologd] : Make custom system dictionary on /content/mecab-ipadic-neologd/libexec/../build/mecab-ipadic-2.7.0-20070801-neologd-20200910\n",
            "make: Nothing to be done for 'all'.\n",
            "[make-mecab-ipadic-NEologd] : Finish..\n",
            "[install-mecab-ipadic-NEologd] : OK. Let's install mecab-ipadic-NEologd.\n",
            "[install-mecab-ipadic-NEologd] : Start..\n",
            "[install-mecab-ipadic-NEologd] : /usr/lib/x86_64-linux-gnu/mecab/dic isn't current user's directory\n",
            "[install-mecab-ipadic-NEologd] : Sudo make install to /usr/lib/x86_64-linux-gnu/mecab/dic/mecab-ipadic-neologd\n",
            "make[1]: Entering directory '/content/mecab-ipadic-neologd/build/mecab-ipadic-2.7.0-20070801-neologd-20200910'\n",
            "make[1]: Nothing to be done for 'install-exec-am'.\n",
            "/bin/bash ./mkinstalldirs /usr/lib/x86_64-linux-gnu/mecab/dic/mecab-ipadic-neologd\n",
            "mkdir /usr/lib/x86_64-linux-gnu/mecab\n",
            "mkdir /usr/lib/x86_64-linux-gnu/mecab/dic\n",
            "mkdir /usr/lib/x86_64-linux-gnu/mecab/dic/mecab-ipadic-neologd\n",
            " /usr/bin/install -c -m 644 ./matrix.bin /usr/lib/x86_64-linux-gnu/mecab/dic/mecab-ipadic-neologd/matrix.bin\n",
            " /usr/bin/install -c -m 644 ./char.bin /usr/lib/x86_64-linux-gnu/mecab/dic/mecab-ipadic-neologd/char.bin\n",
            " /usr/bin/install -c -m 644 ./sys.dic /usr/lib/x86_64-linux-gnu/mecab/dic/mecab-ipadic-neologd/sys.dic\n",
            " /usr/bin/install -c -m 644 ./unk.dic /usr/lib/x86_64-linux-gnu/mecab/dic/mecab-ipadic-neologd/unk.dic\n",
            " /usr/bin/install -c -m 644 ./left-id.def /usr/lib/x86_64-linux-gnu/mecab/dic/mecab-ipadic-neologd/left-id.def\n",
            " /usr/bin/install -c -m 644 ./right-id.def /usr/lib/x86_64-linux-gnu/mecab/dic/mecab-ipadic-neologd/right-id.def\n",
            " /usr/bin/install -c -m 644 ./rewrite.def /usr/lib/x86_64-linux-gnu/mecab/dic/mecab-ipadic-neologd/rewrite.def\n",
            " /usr/bin/install -c -m 644 ./pos-id.def /usr/lib/x86_64-linux-gnu/mecab/dic/mecab-ipadic-neologd/pos-id.def\n",
            " /usr/bin/install -c -m 644 ./dicrc /usr/lib/x86_64-linux-gnu/mecab/dic/mecab-ipadic-neologd/dicrc\n",
            "make[1]: Leaving directory '/content/mecab-ipadic-neologd/build/mecab-ipadic-2.7.0-20070801-neologd-20200910'\n",
            "\n",
            "[install-mecab-ipadic-NEologd] : Install completed.\n",
            "[install-mecab-ipadic-NEologd] : When you use MeCab, you can set '/usr/lib/x86_64-linux-gnu/mecab/dic/mecab-ipadic-neologd' as a value of '-d' option of MeCab.\n",
            "[install-mecab-ipadic-NEologd] : Usage of mecab-ipadic-NEologd is here.\n",
            "Usage:\n",
            "    $ mecab -d /usr/lib/x86_64-linux-gnu/mecab/dic/mecab-ipadic-neologd ...\n",
            "\n",
            "[install-mecab-ipadic-NEologd] : Finish..\n",
            "[install-mecab-ipadic-NEologd] : Finish..\n",
            "/content\n"
          ]
        }
      ]
    },
    {
      "cell_type": "code",
      "metadata": {
        "colab": {
          "base_uri": "https://localhost:8080/"
        },
        "id": "jowDF7zE125j",
        "outputId": "5430a715-5a61-4830-ecc2-794e24a3616d"
      },
      "source": [
        "%%writefile /usr/local/etc/mecabrc\n",
        ";\n",
        "; Configuration file of MeCab\n",
        ";\n",
        "; $Id: mecabrc.in,v 1.3 2006/05/29 15:36:08 taku-ku Exp $;\n",
        ";\n",
        "dicdir = /usr/lib/x86_64-linux-gnu/mecab/dic/mecab-ipadic-neologd\n",
        "\n",
        "; userdic = /home/foo/bar/user.dic\n",
        "\n",
        "; output-format-type = wakati\n",
        "; input-buffer-size = 8192\n",
        "\n",
        "; node-format = %m\\n\n",
        "; bos-format = %S\\n\n",
        "; eos-format = EOS\\n"
      ],
      "execution_count": 5,
      "outputs": [
        {
          "output_type": "stream",
          "name": "stdout",
          "text": [
            "Writing /usr/local/etc/mecabrc\n"
          ]
        }
      ]
    },
    {
      "cell_type": "markdown",
      "metadata": {
        "id": "VBm3Cjk6sHcw"
      },
      "source": [
        "# Setup Scripts"
      ]
    },
    {
      "cell_type": "code",
      "metadata": {
        "colab": {
          "base_uri": "https://localhost:8080/",
          "height": 35
        },
        "id": "-UZOaFmDoLZJ",
        "outputId": "462bc04c-896f-4941-8a95-e896304cde8b"
      },
      "source": [
        "import os\n",
        "os.getcwd()"
      ],
      "execution_count": 6,
      "outputs": [
        {
          "output_type": "execute_result",
          "data": {
            "application/vnd.google.colaboratory.intrinsic+json": {
              "type": "string"
            },
            "text/plain": [
              "'/content'"
            ]
          },
          "metadata": {},
          "execution_count": 6
        }
      ]
    },
    {
      "cell_type": "code",
      "metadata": {
        "colab": {
          "base_uri": "https://localhost:8080/",
          "height": 35
        },
        "id": "W4_7Oc3WpGA8",
        "outputId": "0801aa4d-903c-474f-9f5e-07f490b3c809"
      },
      "source": [
        "os.chdir(r\"/content/drive/My Drive/resumeOCR\")\n",
        "os.getcwd()"
      ],
      "execution_count": 7,
      "outputs": [
        {
          "output_type": "execute_result",
          "data": {
            "application/vnd.google.colaboratory.intrinsic+json": {
              "type": "string"
            },
            "text/plain": [
              "'/content/drive/My Drive/resumeOCR'"
            ]
          },
          "metadata": {},
          "execution_count": 7
        }
      ]
    },
    {
      "cell_type": "code",
      "metadata": {
        "colab": {
          "base_uri": "https://localhost:8080/"
        },
        "id": "7_-2foNEsN5U",
        "outputId": "43d66b81-bf4c-4227-ca57-5703682236e8"
      },
      "source": [
        "os.listdir()"
      ],
      "execution_count": 8,
      "outputs": [
        {
          "output_type": "execute_result",
          "data": {
            "text/plain": [
              "['resume_ceo.png',\n",
              " 'resume1.png',\n",
              " 'constants.py',\n",
              " 'constraints.py',\n",
              " '__pycache__',\n",
              " '.ipynb_checkpoints',\n",
              " 'spell.py',\n",
              " 'words.txt',\n",
              " 'ocr.py',\n",
              " 'output.csv',\n",
              " 'output.gsheet']"
            ]
          },
          "metadata": {},
          "execution_count": 8
        }
      ]
    },
    {
      "cell_type": "code",
      "metadata": {
        "id": "jZAeVUfjnfRC"
      },
      "source": [
        "#constants.py\n",
        "headers = ['', '不可',\n",
        "        'メールアドレス'\n",
        "        '氏名','名前', '苗字',\n",
        "        '現住所', '住所', '連絡先','居住地',\n",
        "        'ふりがな','フリガナ', 'りがな',\n",
        "        '生年月日','誕生日','平成', '昭和','年','月' \n",
        "        '性別', \n",
        "        'TEL', '電話', '携帯','tel', '連絡先', 'contact', '電話番号','FAX','fax',\n",
        "        '自己PR',\n",
        "        '職歴', '就労経験', '現在の就業',\n",
        "        '学歴','就学状湿','現在の就業・就学状湿',\n",
        "        '資格', '免許''日本での運転可', '日本での運転可・不可',\n",
        "        '配偏者'\n",
        "        ]\n",
        "        \n",
        "separators = r'[\\\\\\)）（\\\\\\(\\s‐–ー−－-]*?'\n",
        "\n",
        "ph_regex = r'([（\\\\\\(]?0([1-9]{1}' + separators + r'[1-9]\\d{3}|[1-9]{2}' + separators + \\\n",
        "           r'\\d{3}|[1-9]{2}\\d{1}' + separators + r'\\d{2}|[1-9]{2}\\d{2}' + separators + \\\n",
        "           r'\\d{1})' + separators + r'\\d{4}|0[789]0' + separators + r'\\d{4}' + separators + \\\n",
        "           r'\\d{4}|050' + separators + r'\\d{4}' + separators + r'\\d{4})'"
      ],
      "execution_count": 9,
      "outputs": []
    },
    {
      "cell_type": "code",
      "metadata": {
        "colab": {
          "base_uri": "https://localhost:8080/"
        },
        "id": "nHFjk_snn7id",
        "outputId": "9b2bf418-c530-4686-e6c0-fabfb127fbe9"
      },
      "source": [
        "#constraints.py\n",
        "from abc import ABC, abstractmethod\n",
        "from typing import List\n",
        "import re\n",
        "from constants import ph_regex\n",
        "# TODO: we should change constraints to take coordinates as well so we can analyze things like font-size etc.\n",
        "class Constraint(ABC):\n",
        "    def filter(self, target):\n",
        "        raise NotImplementedError(\"filter is not implemented\")\n",
        "\n",
        "class ContainsAnyString(Constraint):\n",
        "    def __init__(self, strings_to_test: List[str]):\n",
        "        super(ContainsAnyString, self).__init__()\n",
        "        self.strings_to_test = strings_to_test\n",
        "    def filter(self, target):\n",
        "        return any([test in target.lower() for test in self.strings_to_test])\n",
        "\n",
        "class MatchesAnyPattern(Constraint):\n",
        "    def __init__(self, patterns: List[str]):\n",
        "        super(MatchesAnyPattern, self).__init__()\n",
        "        self.patterns = [re.compile(pattern) for pattern in patterns]\n",
        "    def filter(self, target):\n",
        "        for pattern in self.patterns:\n",
        "            if pattern.findall(target):\n",
        "                return True\n",
        "        return False\n",
        "\n",
        "class LambdaTest(Constraint):\n",
        "    def __init__(self, func):\n",
        "        super(LambdaTest, self).__init__()\n",
        "        self.func = func\n",
        "    def filter(self, target):\n",
        "        return self.func(target)\n",
        "\n",
        "header_tests = {\n",
        "    'untitled': LambdaTest(lambda x: x == ''),\n",
        "    'name': ContainsAnyString(['氏名', '名前', '苗字']),\n",
        "    'address': ContainsAnyString(['居住地', '住所', '連絡先']),\n",
        "    'furigana': ContainsAnyString(['ふりがな', 'フリガナ', 'りがな']),\n",
        "    'birthday': ContainsAnyString(['生年月日', '誕生日', '平成', '昭和']),\n",
        "    'gender': ContainsAnyString(['性別']),\n",
        "    'telephone': ContainsAnyString(['電話', '携帯', 'tel', '連絡先', 'contact', '電話番号']),\n",
        "    'email': ContainsAnyString(['メールアドレス', 'メール', '連絡先', 'contact', 'email']),\n",
        "    'work_history': ContainsAnyString(['職歴']),\n",
        "    'education': ContainsAnyString(['学歴']),\n",
        "    'qualification': ContainsAnyString(['資格', '免許']),\n",
        "    'pr': ContainsAnyString(['自己PR']),\n",
        "    'year': ContainsAnyString(['年']),\n",
        "    'month': ContainsAnyString(['月']),\n",
        "    'job': ContainsAnyString(['現在の就業・就学状湿']),\n",
        "    'driving': ContainsAnyString(['日本での運転可・不可', '日本での運転可'])\n",
        "}\n",
        "\n",
        "# Test Name using MeCab Proper proper noun identification\n",
        "content_tests = {\n",
        "    'address': MatchesAnyPattern([r'^〒\\s*?\\d{3}', r'テ\\s*?\\d{3}', r'[都道府県].*?[市区町村]']),\n",
        "    'birthday': MatchesAnyPattern([r'\\d+(\\s+)?年(\\s+)?\\d+(\\s+)?月(\\s+)?\\d+日生']),\n",
        "    'gender': MatchesAnyPattern([r'[性別\\s]*?[男女]', r'[性別\\s]*?女', r'男\\s*?.{,1}?\\s*?女', r'女\\s*?.{,1}?\\s*?男', r'^[女男]$']),\n",
        "    'telephone': MatchesAnyPattern([ph_regex]),\n",
        "    'email': MatchesAnyPattern([r'\\w@\\w']),\n",
        "    'year': MatchesAnyPattern([r\"\\d\\d\\d\\d\"]),\n",
        "    'month': MatchesAnyPattern([r\"\\d\\d\", '\\d']),\n",
        "    'education': ContainsAnyString(['学歴', '香港寝曾大鼻國際鼻院', ]),\n",
        "    'work':  ContainsAnyString(['職歴']),\n",
        "     'qualification': ContainsAnyString(['資格', '免許']),            \n",
        "}\n",
        "\n",
        "def get_column(text):\n",
        "    for col, test in header_tests.items():\n",
        "        if test.filter(text):\n",
        "            return col\n",
        "    return None\n",
        "\n",
        "def content_check(dict):\n",
        "    keys=dict.keys()\n",
        "    print(keys)\n",
        "    for col, test in content_tests.items():\n",
        "        for key in keys:\n",
        "            if key==col:\n",
        "                print(key)\n",
        "                if test.filter(dict[key]):\n",
        "                    return dict\n",
        "\n",
        "    return None\n",
        "\n",
        "if __name__ == '__main__':\n",
        "    print(get_column('生年月日'))\n",
        "    print(content_check({'birthday': 'wtf'}))"
      ],
      "execution_count": 47,
      "outputs": [
        {
          "output_type": "stream",
          "name": "stdout",
          "text": [
            "birthday\n",
            "dict_keys(['birthday'])\n",
            "birthday\n",
            "None\n"
          ]
        }
      ]
    },
    {
      "cell_type": "code",
      "metadata": {
        "id": "LjyWRxdhosZH"
      },
      "source": [
        "#spell.py\n",
        "import MeCab\n",
        "import neologdn\n",
        "from typing import List\n",
        "from collections import defaultdict\n",
        "from tqdm import tqdm\n",
        "import joblib\n",
        "from joblib import Parallel, delayed\n",
        "import enchant\n",
        "#enchant.Dict(\"ja_JA\")\n",
        "\n",
        "tagger = MeCab.Tagger(\"-F%m\\\\t --unk-feature 未知語\") #\"-Owakati\"\n",
        "\n",
        "def tokeit(text):\n",
        "    text = neologdn.normalize(text, repeat=2)\n",
        "    text = ''.join([i for i in text if i.isalpha() or i.isspace()])\n",
        "    result = tagger.parseToNode(text)\n",
        "\n",
        "    content_words = []\n",
        "    while result:\n",
        "        lemma = result.feature.split(\",\")[6] if len(result.feature.split(\",\")) > 6 and result.feature.split(\",\")[6] != \"*\" else result.surface\n",
        "        content_words.append((result.surface))\n",
        "        result = result.next\n",
        "    return \" \".join(content_words)\n",
        "\n",
        "def editDistance(str1, str2, m, n):\n",
        "    if m == 0:\n",
        "        return n\n",
        " \n",
        "    if n == 0:\n",
        "        return m\n",
        " \n",
        "    if str1[m-1] == str2[n-1]:\n",
        "        return editDistance(str1, str2, m-1, n-1)\n",
        "    \n",
        "    return 1 + min(editDistance(str1, str2, m, n-1),    # Insert\n",
        "                   editDistance(str1, str2, m-1, n),    # Remove\n",
        "                   editDistance(str1, str2, m-1, n-1)    # Replace\n",
        "                   )\n",
        "\n",
        "def spellcheck(text):\n",
        "    titles = enchant.PyPWL(\"words.txt\",)\n",
        "    subs= text.split()\n",
        "    #subs=tokeit(text).split()\n",
        "    text_file = open(\"words.txt\", \"r\")\n",
        "    headerlist = text_file.read().split('\\n')\n",
        "    for ww, i in tqdm(enumerate(headerlist), total=len(headerlist)):\n",
        "        for j in subs:\n",
        "            if 1>=abs(len(i)-len(j))<3:\n",
        "                if len(j)==2 and editDistance(i, j, len(i), len(j))==1:\n",
        "                    loc= subs.index(j)\n",
        "                    subs[loc]=titles.suggest(j, )[0]\n",
        "                else:\n",
        "                    if 1>=editDistance(i, j, len(i), len(j))<3:\n",
        "                        loc= subs.index(j)\n",
        "                        subs[loc]=titles.suggest(j, )[0]\n",
        "            else:\n",
        "                pass\n",
        "    text=\" \".join(subs)\n",
        "    return text"
      ],
      "execution_count": 11,
      "outputs": []
    },
    {
      "cell_type": "code",
      "metadata": {
        "colab": {
          "base_uri": "https://localhost:8080/",
          "height": 52
        },
        "id": "bGqzJbfZv5Vk",
        "outputId": "cb0b4fe1-f315-4836-df26-eb08774b8173"
      },
      "source": [
        "spellcheck('学 学状湿 現在の就業・学状湿 資格 免許日本での運転 日本での運転可・不 配偏')"
      ],
      "execution_count": 12,
      "outputs": [
        {
          "output_type": "stream",
          "name": "stderr",
          "text": [
            "100%|██████████| 27/27 [00:08<00:00,  3.24it/s]\n"
          ]
        },
        {
          "output_type": "execute_result",
          "data": {
            "application/vnd.google.colaboratory.intrinsic+json": {
              "type": "string"
            },
            "text/plain": [
              "'学歴 就学状湿 現在の就業・就学状湿 資格 免許日本での運転可 日本での運転可・不可 配偏'"
            ]
          },
          "metadata": {},
          "execution_count": 12
        }
      ]
    },
    {
      "cell_type": "code",
      "metadata": {
        "colab": {
          "base_uri": "https://localhost:8080/"
        },
        "id": "L8c6gmtvRcKc",
        "outputId": "55acb6a5-044f-425a-bb7e-4da7a09363fe"
      },
      "source": [
        "#ocr.py\n",
        "import easyocr\n",
        "import cv2\n",
        "\n",
        "class OCR:\n",
        "\n",
        "    def __init__(self, _languages=None):\n",
        "        languages = ['ja', 'en'] if _languages is None else _languages\n",
        "        self.reader = easyocr.Reader(languages)\n",
        "\n",
        "    def read(self, image=None):\n",
        "        if image is None:\n",
        "            print('申し訳ありませんが、画像がありません')\n",
        "            return ''\n",
        "        else:\n",
        "            result = self.reader.readtext(image)\n",
        "            return result\n",
        "\n",
        "    def img_shape(self):\n",
        "        return\n",
        "\n",
        "    @staticmethod\n",
        "    def print_text(data):\n",
        "        for index, val in enumerate(data):\n",
        "            print(f'String detected ({index+1}): {val[0]}')\n",
        "            print(f'Coordinate detected ({index + 1}): {val[1]}')\n",
        "\n",
        "\n",
        "if __name__ == \"__main__\":\n",
        "    img = cv2.imread('resume1.png')\n",
        "    img_gaussian = cv2.GaussianBlur(src=img,\n",
        "                                    ksize=(5, 5),\n",
        "                                    sigmaX=1,\n",
        "                                    sigmaY=1)\n",
        "\n",
        "    ocr = OCR()\n",
        "    ret_data = ocr.read(img_gaussian)"
      ],
      "execution_count": 13,
      "outputs": [
        {
          "output_type": "stream",
          "name": "stderr",
          "text": [
            "Downloading detection model, please wait. This may take several minutes depending upon your network connection.\n"
          ]
        },
        {
          "output_type": "stream",
          "name": "stdout",
          "text": [
            ""
          ]
        },
        {
          "output_type": "stream",
          "name": "stderr",
          "text": [
            "Downloading recognition model, please wait. This may take several minutes depending upon your network connection.\n"
          ]
        },
        {
          "output_type": "stream",
          "name": "stdout",
          "text": [
            ""
          ]
        },
        {
          "output_type": "stream",
          "name": "stderr",
          "text": [
            "/usr/local/lib/python3.7/dist-packages/torch/nn/functional.py:718: UserWarning: Named tensors and all their associated APIs are an experimental feature and subject to change. Please do not use them for anything important until they are released as stable. (Triggered internally at  /pytorch/c10/core/TensorImpl.h:1156.)\n",
            "  return torch.max_pool2d(input, kernel_size, stride, padding, dilation, ceil_mode)\n"
          ]
        }
      ]
    },
    {
      "cell_type": "code",
      "metadata": {
        "colab": {
          "base_uri": "https://localhost:8080/"
        },
        "id": "-sGyjRFk1fMr",
        "outputId": "020cdbff-eb43-42a9-bec5-c99cdbb68a63"
      },
      "source": [
        "print(ret_data)"
      ],
      "execution_count": 14,
      "outputs": [
        {
          "output_type": "stream",
          "name": "stdout",
          "text": [
            "[([[215, 270], [408, 270], [408, 348], [215, 348]], '雁歴書', 0.1186076975323952), ([[1073, 286], [1401, 286], [1401, 341], [1073, 341]], '令和 3年8月31日', 0.9943765891565416), ([[1440, 286], [1538, 286], [1538, 341], [1440, 341]], '現在', 0.9945253935731344), ([[239, 385], [423, 385], [423, 437], [239, 437]], 'ふりがな', 0.8596696093327317), ([[847, 381], [1008, 381], [1008, 446], [847, 446]], 'テスト', 0.9971055388450623), ([[237, 459], [330, 459], [330, 516], [237, 516]], '氏名', 0.9992999283477301), ([[721, 545], [882, 545], [882, 613], [721, 613]], 'てすと', 0.9999977975838318), ([[237, 760], [338, 760], [338, 817], [237, 817]], '平成', 0.9999512785907602), ([[363, 763], [447, 763], [447, 815], [363, 815]], '6年', 0.9987959926485194), ([[472, 766], [546, 766], [546, 815], [472, 815]], '4', 0.9774246270100697), ([[585, 763], [727, 763], [727, 815], [585, 815]], '23日生', 0.9982367753982544), ([[763, 760], [944, 760], [944, 817], [763, 817]], '(満27歳)', 0.9940179142602508), ([[1415, 760], [1601, 760], [1601, 817], [1415, 817]], '性別 男', 0.9375960752508877), ([[238, 882], [424, 882], [424, 942], [238, 942]], 'ふりがな', 0.9992002248764038), ([[481, 886], [1226, 886], [1226, 941], [481, 941]], 'ヒョウゴケンコウベシニシクオオツワ', 0.9157393032644092), ([[1745, 893], [1833, 893], [1833, 937], [1745, 937]], 'TEL', 0.9999297983044205), ([[236, 956], [383, 956], [383, 1016], [236, 1016]], '現住所', 0.9824093125018343), ([[482, 964], [526, 964], [526, 1014], [482, 1014]], 'テ', 0.9969320023074602), ([[539, 967], [748, 967], [748, 1011], [539, 1011]], '651-2112', 0.9523140827475038), ([[1744, 974], [1845, 974], [1845, 1031], [1744, 1031]], '捕帯', 0.23430723909321183), ([[472, 1015], [1070, 1015], [1070, 1072], [472, 1072]], '兵庫県神戸市西区大津和1丁目', 0.7698477854079996), ([[1745, 1074], [1828, 1074], [1828, 1118], [1745, 1118]], 'FAX', 0.5126223564147949), ([[239, 1158], [420, 1158], [420, 1212], [239, 1212]], 'ふりがな', 0.9997221827507019), ([[1745, 1164], [1833, 1164], [1833, 1208], [1745, 1208]], 'TEL:', 0.4010293483734131), ([[234, 1232], [379, 1232], [379, 1289], [234, 1289]], '連絡先', 0.9977441031478939), ([[482, 1238], [529, 1238], [529, 1282], [482, 1282]], 'テ', 0.9926473847335728), ([[823, 1237], [1618, 1237], [1618, 1289], [823, 1289]], '(現住所以外に連絡を必要とする場合のみ記入)', 0.9895986356109068), ([[475, 1292], [571, 1292], [571, 1344], [475, 1344]], '同上', 0.9994912411586799), ([[1654, 1347], [1714, 1347], [1714, 1401], [1654, 1401]], '方', 0.9994158406073872), ([[1745, 1345], [1830, 1345], [1830, 1389], [1745, 1389]], 'FAX', 0.9998481724572542), ([[296, 1491], [421, 1491], [421, 1553], [296, 1553]], '年', 0.9994415824577665), ([[464, 1497], [546, 1497], [546, 1549], [464, 1549]], '月', 0.9996865041422467), ([[1089, 1495], [1744, 1495], [1744, 1552], [1089, 1552]], '学歴 ・ 職歴 (各別にまとめて書く)', 0.7284131983912427), ([[1380, 1591], [1481, 1591], [1481, 1648], [1380, 1648]], '学歴', 0.9893683125949246), ([[240, 1707], [340, 1707], [340, 1751], [240, 1751]], '2012', 0.9999504089355469), ([[461, 1710], [487, 1710], [487, 1745], [461, 1745]], '9', 0.9999997615814351), ([[608, 1696], [1060, 1696], [1060, 1756], [608, 1756]], '香港寝倉大鼻國際鼻院', 0.029737060855702473), ([[1088, 1696], [1369, 1696], [1369, 1756], [1088, 1756]], '環境保育学科', 0.9821874652456536), ([[1393, 1700], [1497, 1700], [1497, 1755], [1393, 1755]], '入学', 0.9998627726191995), ([[240, 1814], [340, 1814], [340, 1858], [240, 1858]], '2014', 0.9999120831489563), ([[461, 1815], [489, 1815], [489, 1851], [461, 1851]], '7', 0.9999921322023653), ([[608, 1799], [1063, 1799], [1063, 1868], [608, 1868]], '香港涙曾大鼻國際鼻院', 0.027260007157427043), ([[1085, 1803], [1723, 1803], [1723, 1865], [1085, 1865]], '環境保育学科  卒業 (理進学士', 0.8251521786796342), ([[1747, 1810], [2018, 1810], [2018, 1862], [1747, 1862]], 'Distinction)', 0.9999739837074303), ([[239, 1917], [341, 1917], [341, 1966], [239, 1966]], '2015', 0.999813973903656), ([[458, 1921], [489, 1921], [489, 1958], [458, 1958]], '9', 0.9265531106536422), ([[608, 1907], [1021, 1907], [1021, 1970], [608, 1970]], '香港中文大.文学部', 0.19430693508140562), ([[1041, 1910], [1367, 1910], [1367, 1970], [1041, 1970]], '哲学学科 入学', 0.6554666673374325), ([[240, 2025], [337, 2025], [337, 2069], [240, 2069]], '2017', 0.9999215602874756), ([[461, 2031], [489, 2031], [489, 2062], [461, 2062]], '4', 0.999378301003162), ([[608, 2014], [843, 2014], [843, 2074], [608, 2074]], '亜細亜大学', 0.9637306616036359), ([[871, 2014], [1103, 2014], [1103, 2076], [871, 2076]], '留学生別科', 0.9978595185917786), ([[1132, 2014], [1446, 2014], [1446, 2076], [1132, 2076]], '交換留学で来日', 0.5150088053389731), ([[240, 2131], [340, 2131], [340, 2176], [240, 2176]], '2018', 0.999985933303833), ([[461, 2132], [487, 2132], [487, 2169], [461, 2169]], '3', 0.999999046325911), ([[608, 2121], [843, 2121], [843, 2181], [608, 2181]], '亜細亜大学', 0.9661591551806956), ([[872, 2121], [1232, 2121], [1232, 2181], [872, 2181]], '留学生別科 修了', 0.6063892736076365), ([[608, 2203], [1019, 2203], [1019, 2266], [608, 2266]], '香港中文大鼻文学部', 0.7342147286422374), ([[1044, 2206], [1241, 2206], [1241, 2266], [1044, 2266]], '哲学学科', 0.9980351328849792), ([[1261, 2203], [1806, 2203], [1806, 2266], [1261, 2266]], \"卒業 (優等文学士'Second\", 0.5894287660416251), ([[1835, 2216], [1957, 2216], [1957, 2261], [1835, 2261]], 'Class', 0.9999824070167843), ([[1988, 2215], [2111, 2215], [2111, 2267], [1988, 2267]], 'Upper', 0.9999407168319049), ([[240, 2244], [340, 2244], [340, 2288], [240, 2288]], '2018', 0.9999672174453735), ([[609, 2270], [815, 2270], [815, 2319], [609, 2319]], 'Division)', 0.9998801115977627), ([[608, 2321], [1019, 2321], [1019, 2383], [608, 2383]], '神戸情報大学院大学', 0.9976762936677994), ([[1030, 2321], [1712, 2321], [1712, 2383], [1030, 2383]], '(KIC) 情報技術研究科 (修士課程)', 0.9913109713720825), ([[1768, 2321], [2134, 2321], [2134, 2381], [1768, 2381]], '情報システム専攻', 0.986351000411474), ([[240, 2359], [340, 2359], [340, 2403], [240, 2403]], '2020', 0.9999123215675354), ([[460, 2362], [515, 2362], [515, 2403], [460, 2403]], '10', 0.4206688404083252), ([[612, 2383], [1146, 2383], [1146, 2434], [612, 2434]], 'イノベーターコース 入学', 0.9380011390641593), ([[609, 2462], [837, 2462], [837, 2519], [609, 2519]], '現在に至る', 0.9964631283175227), ([[1380, 2569], [1478, 2569], [1478, 2626], [1380, 2626]], '職歴', 0.9861896866139379), ([[240, 2685], [340, 2685], [340, 2727], [240, 2727]], '2018', 0.9999632239341736), ([[460, 2685], [515, 2685], [515, 2727], [460, 2727]], '10', 0.9979415789224942), ([[606, 2672], [1627, 2672], [1627, 2737], [606, 2737]], '株式会社パラダイスプラン (沖縄県宮古島市) 入社', 0.5567181766788184), ([[608, 2779], [1501, 2779], [1501, 2841], [608, 2841]], '総合職として島の駅みやこ (宮古島) 事業部', 0.9333945737203563), ([[1525, 2783], [1801, 2783], [1801, 2840], [1525, 2840]], '物販部門配属', 0.9950955057875102), ([[608, 2883], [1625, 2883], [1625, 2949], [608, 2949]], '店錦運営 マーケティング 都訳 通訳などを担当', 0.32515988262947215), ([[240, 3003], [340, 3003], [340, 3047], [240, 3047]], '2020', 0.9998836517333984), ([[457, 3003], [493, 3003], [493, 3045], [457, 3045]], '5', 0.9999959468882622), ([[608, 2993], [1016, 2993], [1016, 3055], [608, 3055]], '会社都合により退社', 0.9952336532501848), ([[2152, 3106], [2248, 3106], [2248, 3158], [2152, 3158]], '以上', 0.9991195816001244)]\n"
          ]
        }
      ]
    },
    {
      "cell_type": "code",
      "metadata": {
        "colab": {
          "base_uri": "https://localhost:8080/"
        },
        "id": "h6g9W7vLsuxU",
        "outputId": "efc5c870-e9d2-4414-d8ec-490ce65e1944"
      },
      "source": [
        "# from ocr import OCR\n",
        "# from constants import headers\n",
        "# from spell import spellcheck\n",
        "import cv2\n",
        "import sys\n",
        "import pandas as pd\n",
        "\n",
        "def is_title(text):\n",
        "    if text in headers:\n",
        "        return True\n",
        "    else:\n",
        "        return False\n",
        "\n",
        "def able_to_merge(data_1, data_2, _image_dim=None, margin_x=0.017, margin_y=0.003):\n",
        "    image_dim = [2483, 3508] if _image_dim is None else _image_dim # testing purposes\n",
        "    dim_x = image_dim[0]\n",
        "    dim_y = image_dim[1]\n",
        "    if (data_2['coordinates'][0][1] in range(data_1['coordinates'][0][1] - int(margin_y * dim_y),\n",
        "                                             data_1['coordinates'][3][1] + int(margin_y * dim_y)) and\n",
        "            abs(data_2['coordinates'][0][0] - data_1['coordinates'][1][0]) < int(margin_x * dim_x)):\n",
        "        return True\n",
        "    else:\n",
        "        return False\n",
        "\n",
        "def merge(data_1, data_2):\n",
        "    res_data = {\n",
        "        'text': data_1['text'] + ' ' + data_2['text'],\n",
        "        'coordinates': [[data_1['coordinates'][0][0], data_1['coordinates'][0][1]],\n",
        "                        [data_2['coordinates'][1][0], data_2['coordinates'][1][1]],\n",
        "                        [data_2['coordinates'][2][0], data_1['coordinates'][2][1]],\n",
        "                        [data_1['coordinates'][3][0], data_1['coordinates'][3][1]]],\n",
        "        'confidence': (data_1['confidence'] + data_2['confidence']) / 2\n",
        "    }\n",
        "    return res_data\n",
        "\n",
        "def get_merged_data(list_of_data, image_dim=None):\n",
        "    if image_dim is None:\n",
        "        image_dim = [2483, 3508]            # testing purposes\n",
        "    final_list = []\n",
        "    for i, data_1 in enumerate(list_of_data):\n",
        "        if data_1['confidence'] == -1:\n",
        "            continue\n",
        "        elif is_title(data_1['text']):\n",
        "            final_list.append(data_1)\n",
        "        else:\n",
        "            for j, data_2 in enumerate(list_of_data[i + 1:]):\n",
        "                if able_to_merge(data_1, data_2, image_dim):\n",
        "                    data_1 = merge(data_1, data_2)\n",
        "                    data_2['confidence'] = -1\n",
        "            final_list.append(data_1)\n",
        "    return final_list\n",
        "\n",
        "\n",
        "def get_distance(point_a, point_b):\n",
        "    distance = pow(((point_a[0] - point_b[0]) ** 2 + (point_a[1] - point_b[1]) ** 2), 1 / 2)\n",
        "    return distance\n",
        "\n",
        "class EvaluateResume:\n",
        "    def __init__(self, _filename='resume1.png'):\n",
        "        reader = OCR()\n",
        "        image = cv2.imread(_filename)\n",
        "        self.image_dim = [image.shape[1], image.shape[0]]\n",
        "        data_list = reader.read(image)\n",
        "        list_of_data = [{\"wrongtext\": '', 'text': '', 'coordinates': [[0, 0], [0, 0], [0, 0], [0, 0]], 'confidence': 0.0}]\n",
        "        for values in data_list:\n",
        "            if values[2]>=.90:\n",
        "                new_data = {\"wrongtext\": '', 'text': values[1], 'coordinates': values[0], 'confidence': values[2]} # \"correcttext\": spellcheck(values[1]),\n",
        "            else:\n",
        "                new_data = {\"wrongtext\":values[1] , 'text': spellcheck(values[1]), 'coordinates': values[0], 'confidence': values[2]} # \"correcttext\": spellcheck(values[1]),\n",
        "                print(values[1])\n",
        "                print(new_data)\n",
        "            list_of_data.append(new_data)\n",
        "        self.all_data = get_merged_data(list_of_data, self.image_dim)\n",
        "        pd.DataFrame(list_of_data).to_csv('output.csv', index=False)\n",
        "    \n",
        "    def get_image_dimensions(self):\n",
        "        return self.image_dim\n",
        "\n",
        "    def get_title(self, data):\n",
        "        distances = []\n",
        "        for current_data in self.all_data:\n",
        "            if not is_title(current_data['text']):\n",
        "                continue\n",
        "            else:\n",
        "                if data['coordinates'][1][0] > current_data['coordinates'][0][0]:\n",
        "                    distance = get_distance(data['coordinates'][0], current_data['coordinates'][0])\n",
        "                    base = [data['coordinates'][2][0] + 0.005 * self.image_dim[0],\n",
        "                            data['coordinates'][2][1] + 0.005 * self.image_dim[1]]\n",
        "                    if current_data['coordinates'][3][0] < base[0] and current_data['coordinates'][3][1] < base[1]:\n",
        "                        distances.append([current_data, distance])\n",
        "\n",
        "        final_distances = sorted(distances, key=lambda l: l[1])\n",
        "        return final_distances[0][0]\n",
        "\n",
        "    def get_key_value_pairs(self, data):\n",
        "        if is_title(data['text']):\n",
        "            return None\n",
        "        else:\n",
        "            val = self.get_title(data)\n",
        "            res = {get_column(val['text']): data['text']}\n",
        "            if content_check(res):\n",
        "                return res\n",
        "\n",
        "def actual_main():\n",
        "    all_pairs = []\n",
        "    evaluator = EvaluateResume(_filename='resume1.png')\n",
        "    for data in evaluator.all_data:\n",
        "        res = evaluator.get_key_value_pairs(data)\n",
        "        all_pairs.append(res)\n",
        "        pd.DataFrame(all_pairs).to_csv('outputpairs.csv', index=False)\n",
        "        print(res)\n",
        "\n",
        "if __name__ == \"__main__\":\n",
        "    actual_main()"
      ],
      "execution_count": 48,
      "outputs": [
        {
          "output_type": "stream",
          "name": "stderr",
          "text": [
            "100%|██████████| 27/27 [00:00<00:00, 8032.79it/s]\n"
          ]
        },
        {
          "output_type": "stream",
          "name": "stdout",
          "text": [
            "雁歴書\n",
            "{'wrongtext': '雁歴書', 'text': '履歴書', 'coordinates': [[215, 270], [408, 270], [408, 348], [215, 348]], 'confidence': 0.10516757216668074}\n"
          ]
        },
        {
          "output_type": "stream",
          "name": "stderr",
          "text": [
            "100%|██████████| 27/27 [00:00<00:00, 2951.12it/s]\n"
          ]
        },
        {
          "output_type": "stream",
          "name": "stdout",
          "text": [
            "ふりがな\n",
            "{'wrongtext': 'ふりがな', 'text': 'ふりがな', 'coordinates': [[239, 382], [423, 382], [423, 437], [239, 437]], 'confidence': 0.448096364736557}\n"
          ]
        },
        {
          "output_type": "stream",
          "name": "stderr",
          "text": [
            "100%|██████████| 27/27 [00:00<00:00, 19592.77it/s]\n"
          ]
        },
        {
          "output_type": "stream",
          "name": "stdout",
          "text": [
            "TEL・\n",
            "{'wrongtext': 'TEL・', 'text': 'TEL・', 'coordinates': [[1748, 893], [1833, 893], [1833, 937], [1748, 937]], 'confidence': 0.6682319641113281}\n"
          ]
        },
        {
          "output_type": "stream",
          "name": "stderr",
          "text": [
            "100%|██████████| 27/27 [00:00<00:00, 40.96it/s] \n"
          ]
        },
        {
          "output_type": "stream",
          "name": "stdout",
          "text": [
            "651-2112\n",
            "{'wrongtext': '651-2112', 'text': '651-2112', 'coordinates': [[542, 967], [748, 967], [748, 1011], [542, 1011]], 'confidence': 0.8440329546767301}\n"
          ]
        },
        {
          "output_type": "stream",
          "name": "stderr",
          "text": [
            "100%|██████████| 27/27 [00:00<00:00, 26147.82it/s]\n"
          ]
        },
        {
          "output_type": "stream",
          "name": "stdout",
          "text": [
            "ば帯\n",
            "{'wrongtext': 'ば帯', 'text': '携帯', 'coordinates': [[1744, 974], [1845, 974], [1845, 1031], [1744, 1031]], 'confidence': 0.07312355610163146}\n"
          ]
        },
        {
          "output_type": "stream",
          "name": "stderr",
          "text": [
            "100%|██████████| 27/27 [00:00<00:00, 18477.11it/s]\n"
          ]
        },
        {
          "output_type": "stream",
          "name": "stdout",
          "text": [
            "TEL:\n",
            "{'wrongtext': 'TEL:', 'text': 'TEL:', 'coordinates': [[1748, 1164], [1833, 1164], [1833, 1208], [1748, 1208]], 'confidence': 0.46508708596229553}\n"
          ]
        },
        {
          "output_type": "stream",
          "name": "stderr",
          "text": [
            "100%|██████████| 27/27 [00:00<00:00, 200791.15it/s]\n"
          ]
        },
        {
          "output_type": "stream",
          "name": "stdout",
          "text": [
            "現住所以外に連絡を必要とする場合のみ記入)\n",
            "{'wrongtext': '現住所以外に連絡を必要とする場合のみ記入)', 'text': '現住所以外に連絡を必要とする場合のみ記入)', 'coordinates': [[840, 1237], [1615, 1237], [1615, 1289], [840, 1289]], 'confidence': 0.8088653727753791}\n"
          ]
        },
        {
          "output_type": "stream",
          "name": "stderr",
          "text": [
            "100%|██████████| 27/27 [00:16<00:00,  1.65it/s]\n"
          ]
        },
        {
          "output_type": "stream",
          "name": "stdout",
          "text": [
            "学歴 ・ 職歴 (各別にまとめて書く)\n",
            "{'wrongtext': '学歴 ・ 職歴 (各別にまとめて書く)', 'text': '学歴 ・ 職歴 (各別にまとめて書く)', 'coordinates': [[1092, 1495], [1744, 1495], [1744, 1552], [1092, 1552]], 'confidence': 0.8360990590679178}\n"
          ]
        },
        {
          "output_type": "stream",
          "name": "stderr",
          "text": [
            "100%|██████████| 27/27 [00:10<00:00,  2.61it/s]\n"
          ]
        },
        {
          "output_type": "stream",
          "name": "stdout",
          "text": [
            "香港寝曾大鼻國際鼻院\n",
            "{'wrongtext': '香港寝曾大鼻國際鼻院', 'text': '香港寝曾大鼻國際鼻院', 'coordinates': [[608, 1696], [1060, 1696], [1060, 1759], [608, 1759]], 'confidence': 0.05396584552407906}\n"
          ]
        },
        {
          "output_type": "stream",
          "name": "stderr",
          "text": [
            "100%|██████████| 27/27 [00:10<00:00,  2.58it/s]\n"
          ]
        },
        {
          "output_type": "stream",
          "name": "stdout",
          "text": [
            "香港8曾大鼻國際鼻院\n",
            "{'wrongtext': '香港8曾大鼻國際鼻院', 'text': '香港8曾大鼻國際鼻院', 'coordinates': [[608, 1803], [1060, 1803], [1060, 1865], [608, 1865]], 'confidence': 0.02016028838553179}\n"
          ]
        },
        {
          "output_type": "stream",
          "name": "stderr",
          "text": [
            "100%|██████████| 27/27 [00:00<00:00, 5067.17it/s]\n"
          ]
        },
        {
          "output_type": "stream",
          "name": "stdout",
          "text": [
            "卒業 (理進学士\n",
            "{'wrongtext': '卒業 (理進学士', 'text': '卒業 (理進学士', 'coordinates': [[1395, 1803], [1720, 1803], [1720, 1865], [1395, 1865]], 'confidence': 0.6090569813420894}\n"
          ]
        },
        {
          "output_type": "stream",
          "name": "stderr",
          "text": [
            "100%|██████████| 27/27 [00:04<00:00,  6.44it/s]\n"
          ]
        },
        {
          "output_type": "stream",
          "name": "stdout",
          "text": [
            "香港中文大鼻文学部\n",
            "{'wrongtext': '香港中文大鼻文学部', 'text': '香港中文大鼻文学部', 'coordinates': [[608, 1910], [1019, 1910], [1019, 1970], [608, 1970]], 'confidence': 0.40055937494051846}\n"
          ]
        },
        {
          "output_type": "stream",
          "name": "stderr",
          "text": [
            "100%|██████████| 27/27 [00:00<00:00, 15237.65it/s]\n"
          ]
        },
        {
          "output_type": "stream",
          "name": "stdout",
          "text": [
            "2017\n",
            "{'wrongtext': '2017', 'text': '2017', 'coordinates': [[240, 2025], [337, 2025], [337, 2069], [240, 2069]], 'confidence': 0.7496384513760282}\n"
          ]
        },
        {
          "output_type": "stream",
          "name": "stderr",
          "text": [
            "100%|██████████| 27/27 [00:00<00:00, 57195.05it/s]\n"
          ]
        },
        {
          "output_type": "stream",
          "name": "stdout",
          "text": [
            "4\n",
            "{'wrongtext': '4', 'text': '4', 'coordinates': [[463, 2034], [487, 2034], [487, 2062], [463, 2062]], 'confidence': 0.4515739742988103}\n"
          ]
        },
        {
          "output_type": "stream",
          "name": "stderr",
          "text": [
            "100%|██████████| 27/27 [00:00<00:00, 5684.77it/s]\n"
          ]
        },
        {
          "output_type": "stream",
          "name": "stdout",
          "text": [
            "留学生別科 修了\n",
            "{'wrongtext': '留学生別科 修了', 'text': '留学生別科 修了', 'coordinates': [[874, 2121], [1230, 2121], [1230, 2181], [874, 2181]], 'confidence': 0.8545622623632023}\n"
          ]
        },
        {
          "output_type": "stream",
          "name": "stderr",
          "text": [
            "100%|██████████| 27/27 [00:04<00:00,  6.55it/s]\n"
          ]
        },
        {
          "output_type": "stream",
          "name": "stdout",
          "text": [
            "香港中文大鼻文学部\n",
            "{'wrongtext': '香港中文大鼻文学部', 'text': '香港中文大鼻文学部', 'coordinates': [[608, 2206], [1016, 2206], [1016, 2266], [608, 2266]], 'confidence': 0.5739559752692523}\n"
          ]
        },
        {
          "output_type": "stream",
          "name": "stderr",
          "text": [
            "100%|██████████| 27/27 [00:04<00:00,  6.04it/s]\n"
          ]
        },
        {
          "output_type": "stream",
          "name": "stdout",
          "text": [
            "Division)\n",
            "{'wrongtext': 'Division)', 'text': 'Division)', 'coordinates': [[612, 2270], [815, 2270], [815, 2319], [612, 2319]], 'confidence': 0.8236840700973941}\n"
          ]
        },
        {
          "output_type": "stream",
          "name": "stderr",
          "text": [
            "100%|██████████| 27/27 [00:00<00:00, 35158.71it/s]\n"
          ]
        },
        {
          "output_type": "stream",
          "name": "stdout",
          "text": [
            "10\n",
            "{'wrongtext': '10', 'text': '10', 'coordinates': [[460, 2362], [512, 2362], [512, 2403], [460, 2403]], 'confidence': 0.48329415917396545}\n"
          ]
        },
        {
          "output_type": "stream",
          "name": "stderr",
          "text": [
            "100%|██████████| 27/27 [00:04<00:00,  5.87it/s]\n"
          ]
        },
        {
          "output_type": "stream",
          "name": "stdout",
          "text": [
            "株式会社パラダイスプラン (沖縄県宮古島市) 入社\n",
            "{'wrongtext': '株式会社パラダイスプラン (沖縄県宮古島市) 入社', 'text': '株式会社パラダイスプラン (沖縄県宮古島市) 入社', 'coordinates': [[608, 2670], [1627, 2670], [1627, 2739], [608, 2739]], 'confidence': 0.6709011427846866}\n"
          ]
        },
        {
          "output_type": "stream",
          "name": "stderr",
          "text": [
            "100%|██████████| 27/27 [00:00<00:00, 8469.54it/s]\n"
          ]
        },
        {
          "output_type": "stream",
          "name": "stdout",
          "text": [
            "店_運営\n",
            "{'wrongtext': '店_運営', 'text': '店_運営', 'coordinates': [[608, 2886], [813, 2886], [813, 2948], [608, 2948]], 'confidence': 0.1612876057624817}\n"
          ]
        },
        {
          "output_type": "stream",
          "name": "stderr",
          "text": [
            "100%|██████████| 27/27 [00:00<00:00, 262.13it/s]\n"
          ]
        },
        {
          "output_type": "stream",
          "name": "stdout",
          "text": [
            "マーケティング 都訳 通訳などを担当\n",
            "{'wrongtext': 'マーケティング 都訳 通訳などを担当', 'text': 'マーケティング 都訳 通訳などを担当', 'coordinates': [[830, 2885], [1625, 2885], [1625, 2951], [830, 2951]], 'confidence': 0.45542341769175254}\n",
            "None\n",
            "dict_keys(['untitled'])\n",
            "None\n",
            "dict_keys(['untitled'])\n",
            "None\n",
            "dict_keys(['untitled'])\n",
            "None\n",
            "None\n",
            "dict_keys(['furigana'])\n",
            "None\n",
            "dict_keys(['furigana'])\n",
            "None\n",
            "dict_keys(['furigana'])\n",
            "None\n",
            "None\n",
            "dict_keys(['birthday'])\n",
            "birthday\n",
            "{'birthday': '6年 4月 23日生 (満27歳)'}\n",
            "dict_keys(['birthday'])\n",
            "birthday\n",
            "None\n",
            "None\n",
            "dict_keys(['furigana'])\n",
            "None\n",
            "dict_keys(['furigana'])\n",
            "None\n",
            "None\n",
            "dict_keys(['address'])\n",
            "address\n",
            "{'address': 'テ 651-2112'}\n",
            "None\n",
            "dict_keys(['address'])\n",
            "address\n",
            "{'address': '兵庫県神戸市西区大津和1丁目'}\n",
            "None\n",
            "None\n",
            "dict_keys([None])\n",
            "None\n",
            "None\n",
            "dict_keys(['address'])\n",
            "address\n",
            "None\n",
            "dict_keys(['furigana'])\n",
            "None\n",
            "dict_keys(['address'])\n",
            "address\n",
            "None\n",
            "dict_keys([None])\n",
            "None\n",
            "None\n",
            "dict_keys(['year'])\n",
            "year\n",
            "None\n",
            "dict_keys(['year'])\n",
            "year\n",
            "None\n",
            "None\n",
            "dict_keys(['year'])\n",
            "year\n",
            "{'year': '2012'}\n",
            "dict_keys(['year'])\n",
            "year\n",
            "None\n",
            "dict_keys(['year'])\n",
            "year\n",
            "None\n",
            "dict_keys(['year'])\n",
            "year\n",
            "{'year': '2014'}\n",
            "dict_keys(['year'])\n",
            "year\n",
            "None\n",
            "dict_keys(['year'])\n",
            "year\n",
            "{'year': '2015'}\n",
            "dict_keys(['year'])\n",
            "year\n",
            "None\n",
            "dict_keys(['year'])\n",
            "year\n",
            "None\n",
            "dict_keys(['year'])\n",
            "year\n",
            "{'year': '2017'}\n",
            "dict_keys(['year'])\n",
            "year\n",
            "None\n",
            "dict_keys(['year'])\n",
            "year\n",
            "None\n",
            "dict_keys(['year'])\n",
            "year\n",
            "{'year': '2018'}\n",
            "dict_keys(['year'])\n",
            "year\n",
            "None\n",
            "dict_keys(['year'])\n",
            "year\n",
            "None\n",
            "dict_keys(['year'])\n",
            "year\n",
            "None\n",
            "dict_keys(['year'])\n",
            "year\n",
            "{'year': '2018'}\n",
            "dict_keys(['year'])\n",
            "year\n",
            "None\n",
            "dict_keys(['year'])\n",
            "year\n",
            "None\n",
            "dict_keys(['education'])\n",
            "education\n",
            "None\n",
            "dict_keys(['year'])\n",
            "year\n",
            "{'year': '2020'}\n",
            "dict_keys(['year'])\n",
            "year\n",
            "None\n",
            "dict_keys(['year'])\n",
            "year\n",
            "None\n",
            "dict_keys(['year'])\n",
            "year\n",
            "None\n",
            "None\n",
            "dict_keys(['year'])\n",
            "year\n",
            "{'year': '2018'}\n",
            "dict_keys(['year'])\n",
            "year\n",
            "None\n",
            "dict_keys(['work_history'])\n",
            "None\n",
            "dict_keys(['work_history'])\n",
            "None\n",
            "dict_keys(['work_history'])\n",
            "None\n",
            "dict_keys(['year'])\n",
            "year\n",
            "{'year': '2020'}\n",
            "dict_keys(['year'])\n",
            "year\n",
            "None\n",
            "dict_keys(['year'])\n",
            "year\n",
            "None\n",
            "dict_keys(['work_history'])\n",
            "None\n"
          ]
        }
      ]
    },
    {
      "cell_type": "code",
      "metadata": {
        "colab": {
          "base_uri": "https://localhost:8080/"
        },
        "id": "nGmvNhxaHZ9J",
        "outputId": "eb08c918-6fc6-4c30-edb6-627a8aec45c4"
      },
      "source": [
        "# from ocr import OCR\n",
        "# from constants import headers\n",
        "# from spell import spellcheck\n",
        "import cv2\n",
        "import sys\n",
        "import pandas as pd\n",
        "\n",
        "def is_title(text):\n",
        "    if text in headers:\n",
        "        return True\n",
        "    else:\n",
        "        return False\n",
        "\n",
        "def able_to_merge(data_1, data_2, _image_dim=None, margin_x=0.017, margin_y=0.003):\n",
        "    image_dim = [2483, 3508] if _image_dim is None else _image_dim # testing purposes\n",
        "    dim_x = image_dim[0]\n",
        "    dim_y = image_dim[1]\n",
        "    if (data_2['coordinates'][0][1] in range(data_1['coordinates'][0][1] - int(margin_y * dim_y),\n",
        "                                             data_1['coordinates'][3][1] + int(margin_y * dim_y)) and\n",
        "            abs(data_2['coordinates'][0][0] - data_1['coordinates'][1][0]) < int(margin_x * dim_x)):\n",
        "        return True\n",
        "    else:\n",
        "        return False\n",
        "\n",
        "def merge(data_1, data_2):\n",
        "    res_data = {\n",
        "        'text': data_1['text'] + ' ' + data_2['text'],\n",
        "        'coordinates': [[data_1['coordinates'][0][0], data_1['coordinates'][0][1]],\n",
        "                        [data_2['coordinates'][1][0], data_2['coordinates'][1][1]],\n",
        "                        [data_2['coordinates'][2][0], data_1['coordinates'][2][1]],\n",
        "                        [data_1['coordinates'][3][0], data_1['coordinates'][3][1]]],\n",
        "        'confidence': (data_1['confidence'] + data_2['confidence']) / 2\n",
        "    }\n",
        "    return res_data\n",
        "\n",
        "def get_merged_data(list_of_data, image_dim=None):\n",
        "    if image_dim is None:\n",
        "        image_dim = [2483, 3508]            # testing purposes\n",
        "    final_list = []\n",
        "    for i, data_1 in enumerate(list_of_data):\n",
        "        if data_1['confidence'] == -1:\n",
        "            continue\n",
        "        elif is_title(data_1['text']):\n",
        "            final_list.append(data_1)\n",
        "        else:\n",
        "            for j, data_2 in enumerate(list_of_data[i + 1:]):\n",
        "                if able_to_merge(data_1, data_2, image_dim):\n",
        "                    data_1 = merge(data_1, data_2)\n",
        "                    data_2['confidence'] = -1\n",
        "            final_list.append(data_1)\n",
        "    return final_list\n",
        "\n",
        "\n",
        "def get_distance(point_a, point_b):\n",
        "    distance = pow(((point_a[0] - point_b[0]) ** 2 + (point_a[1] - point_b[1]) ** 2), 1 / 2)\n",
        "    return distance\n",
        "\n",
        "class EvaluateResume:\n",
        "    def __init__(self, _filename='resume1.png'):\n",
        "        reader = OCR()\n",
        "        image = cv2.imread(_filename)\n",
        "        self.image_dim = [image.shape[1], image.shape[0]]\n",
        "        data_list = reader.read(image)\n",
        "        list_of_data = [{\"wrongtext\": '', 'text': '', 'coordinates': [[0, 0], [0, 0], [0, 0], [0, 0]], 'confidence': 0.0}]\n",
        "        for values in data_list:\n",
        "            if values[2]>=.90:\n",
        "                new_data = {\"wrongtext\": '', 'text': values[1], 'coordinates': values[0], 'confidence': values[2]} # \"correcttext\": spellcheck(values[1]),\n",
        "            else:\n",
        "                new_data = {\"wrongtext\":values[1] , 'text': spellcheck(values[1]), 'coordinates': values[0], 'confidence': values[2]} # \"correcttext\": spellcheck(values[1]),\n",
        "                print(values[1])\n",
        "                print(new_data)\n",
        "            list_of_data.append(new_data)\n",
        "        self.all_data = get_merged_data(list_of_data, self.image_dim)\n",
        "        pd.DataFrame(list_of_data).to_csv('output.csv', index=False)\n",
        "    \n",
        "    def get_image_dimensions(self):\n",
        "        return self.image_dim\n",
        "\n",
        "    def get_title(self, data):\n",
        "        distances = []\n",
        "        for current_data in self.all_data:\n",
        "            if not is_title(current_data['text']):\n",
        "                continue\n",
        "            else:\n",
        "                if data['coordinates'][1][0] > current_data['coordinates'][0][0]:\n",
        "                    distance = get_distance(data['coordinates'][0], current_data['coordinates'][0])\n",
        "                    base = [data['coordinates'][2][0] + 0.005 * self.image_dim[0],\n",
        "                            data['coordinates'][2][1] + 0.005 * self.image_dim[1]]\n",
        "                    if current_data['coordinates'][3][0] < base[0] and current_data['coordinates'][3][1] < base[1]:\n",
        "                        distances.append([current_data, distance])\n",
        "\n",
        "        final_distances = sorted(distances, key=lambda l: l[1])\n",
        "        return final_distances[0][0]\n",
        "\n",
        "    def get_key_value_pairs(self, data):\n",
        "        if is_title(data['text']):\n",
        "            return None\n",
        "        else:\n",
        "            val = self.get_title(data)\n",
        "            res = {get_column(val['text']): data['text']}\n",
        "            return res\n",
        "\n",
        "def actual_main():\n",
        "    all_pairs = []\n",
        "    evaluator = EvaluateResume(_filename='resume1.png')\n",
        "    for data in evaluator.all_data:\n",
        "        res = evaluator.get_key_value_pairs(data)\n",
        "        all_pairs.append(res)\n",
        "        pd.DataFrame(all_pairs).to_csv('outputpairs.csv', index=False)\n",
        "        print(res)\n",
        "\n",
        "if __name__ == \"__main__\":\n",
        "    actual_main()"
      ],
      "execution_count": 52,
      "outputs": [
        {
          "output_type": "stream",
          "name": "stderr",
          "text": [
            "100%|██████████| 27/27 [00:00<00:00, 8898.81it/s]\n"
          ]
        },
        {
          "output_type": "stream",
          "name": "stdout",
          "text": [
            "雁歴書\n",
            "{'wrongtext': '雁歴書', 'text': '履歴書', 'coordinates': [[215, 270], [408, 270], [408, 348], [215, 348]], 'confidence': 0.10516757216668074}\n"
          ]
        },
        {
          "output_type": "stream",
          "name": "stderr",
          "text": [
            "100%|██████████| 27/27 [00:00<00:00, 2212.88it/s]\n"
          ]
        },
        {
          "output_type": "stream",
          "name": "stdout",
          "text": [
            "ふりがな\n",
            "{'wrongtext': 'ふりがな', 'text': 'ふりがな', 'coordinates': [[239, 382], [423, 382], [423, 437], [239, 437]], 'confidence': 0.448096364736557}\n"
          ]
        },
        {
          "output_type": "stream",
          "name": "stderr",
          "text": [
            "100%|██████████| 27/27 [00:00<00:00, 5879.56it/s]\n"
          ]
        },
        {
          "output_type": "stream",
          "name": "stdout",
          "text": [
            "TEL・\n",
            "{'wrongtext': 'TEL・', 'text': 'TEL・', 'coordinates': [[1748, 893], [1833, 893], [1833, 937], [1748, 937]], 'confidence': 0.6682319641113281}\n"
          ]
        },
        {
          "output_type": "stream",
          "name": "stderr",
          "text": [
            "100%|██████████| 27/27 [00:00<00:00, 40.92it/s] \n"
          ]
        },
        {
          "output_type": "stream",
          "name": "stdout",
          "text": [
            "651-2112\n",
            "{'wrongtext': '651-2112', 'text': '651-2112', 'coordinates': [[542, 967], [748, 967], [748, 1011], [542, 1011]], 'confidence': 0.8440329546767301}\n"
          ]
        },
        {
          "output_type": "stream",
          "name": "stderr",
          "text": [
            "100%|██████████| 27/27 [00:00<00:00, 24249.72it/s]\n"
          ]
        },
        {
          "output_type": "stream",
          "name": "stdout",
          "text": [
            "ば帯\n",
            "{'wrongtext': 'ば帯', 'text': '携帯', 'coordinates': [[1744, 974], [1845, 974], [1845, 1031], [1744, 1031]], 'confidence': 0.07312355610163146}\n"
          ]
        },
        {
          "output_type": "stream",
          "name": "stderr",
          "text": [
            "100%|██████████| 27/27 [00:00<00:00, 18047.20it/s]\n"
          ]
        },
        {
          "output_type": "stream",
          "name": "stdout",
          "text": [
            "TEL:\n",
            "{'wrongtext': 'TEL:', 'text': 'TEL:', 'coordinates': [[1748, 1164], [1833, 1164], [1833, 1208], [1748, 1208]], 'confidence': 0.46508708596229553}\n"
          ]
        },
        {
          "output_type": "stream",
          "name": "stderr",
          "text": [
            "100%|██████████| 27/27 [00:00<00:00, 184140.18it/s]\n"
          ]
        },
        {
          "output_type": "stream",
          "name": "stdout",
          "text": [
            "現住所以外に連絡を必要とする場合のみ記入)\n",
            "{'wrongtext': '現住所以外に連絡を必要とする場合のみ記入)', 'text': '現住所以外に連絡を必要とする場合のみ記入)', 'coordinates': [[840, 1237], [1615, 1237], [1615, 1289], [840, 1289]], 'confidence': 0.8088653727753791}\n"
          ]
        },
        {
          "output_type": "stream",
          "name": "stderr",
          "text": [
            "100%|██████████| 27/27 [00:16<00:00,  1.66it/s]\n"
          ]
        },
        {
          "output_type": "stream",
          "name": "stdout",
          "text": [
            "学歴 ・ 職歴 (各別にまとめて書く)\n",
            "{'wrongtext': '学歴 ・ 職歴 (各別にまとめて書く)', 'text': '学歴 ・ 職歴 (各別にまとめて書く)', 'coordinates': [[1092, 1495], [1744, 1495], [1744, 1552], [1092, 1552]], 'confidence': 0.8360990590679178}\n"
          ]
        },
        {
          "output_type": "stream",
          "name": "stderr",
          "text": [
            "100%|██████████| 27/27 [00:10<00:00,  2.61it/s]\n"
          ]
        },
        {
          "output_type": "stream",
          "name": "stdout",
          "text": [
            "香港寝曾大鼻國際鼻院\n",
            "{'wrongtext': '香港寝曾大鼻國際鼻院', 'text': '香港寝曾大鼻國際鼻院', 'coordinates': [[608, 1696], [1060, 1696], [1060, 1759], [608, 1759]], 'confidence': 0.05396584552407906}\n"
          ]
        },
        {
          "output_type": "stream",
          "name": "stderr",
          "text": [
            "100%|██████████| 27/27 [00:10<00:00,  2.62it/s]\n"
          ]
        },
        {
          "output_type": "stream",
          "name": "stdout",
          "text": [
            "香港8曾大鼻國際鼻院\n",
            "{'wrongtext': '香港8曾大鼻國際鼻院', 'text': '香港8曾大鼻國際鼻院', 'coordinates': [[608, 1803], [1060, 1803], [1060, 1865], [608, 1865]], 'confidence': 0.02016028838553179}\n"
          ]
        },
        {
          "output_type": "stream",
          "name": "stderr",
          "text": [
            "100%|██████████| 27/27 [00:00<00:00, 2845.74it/s]\n"
          ]
        },
        {
          "output_type": "stream",
          "name": "stdout",
          "text": [
            "卒業 (理進学士\n",
            "{'wrongtext': '卒業 (理進学士', 'text': '卒業 (理進学士', 'coordinates': [[1395, 1803], [1720, 1803], [1720, 1865], [1395, 1865]], 'confidence': 0.6090569813420894}\n"
          ]
        },
        {
          "output_type": "stream",
          "name": "stderr",
          "text": [
            "100%|██████████| 27/27 [00:04<00:00,  6.59it/s]\n"
          ]
        },
        {
          "output_type": "stream",
          "name": "stdout",
          "text": [
            "香港中文大鼻文学部\n",
            "{'wrongtext': '香港中文大鼻文学部', 'text': '香港中文大鼻文学部', 'coordinates': [[608, 1910], [1019, 1910], [1019, 1970], [608, 1970]], 'confidence': 0.40055937494051846}\n"
          ]
        },
        {
          "output_type": "stream",
          "name": "stderr",
          "text": [
            "100%|██████████| 27/27 [00:00<00:00, 13700.24it/s]\n"
          ]
        },
        {
          "output_type": "stream",
          "name": "stdout",
          "text": [
            "2017\n",
            "{'wrongtext': '2017', 'text': '2017', 'coordinates': [[240, 2025], [337, 2025], [337, 2069], [240, 2069]], 'confidence': 0.7496384513760282}\n"
          ]
        },
        {
          "output_type": "stream",
          "name": "stderr",
          "text": [
            "100%|██████████| 27/27 [00:00<00:00, 100752.85it/s]\n"
          ]
        },
        {
          "output_type": "stream",
          "name": "stdout",
          "text": [
            "4\n",
            "{'wrongtext': '4', 'text': '4', 'coordinates': [[463, 2034], [487, 2034], [487, 2062], [463, 2062]], 'confidence': 0.4515739742988103}\n"
          ]
        },
        {
          "output_type": "stream",
          "name": "stderr",
          "text": [
            "100%|██████████| 27/27 [00:00<00:00, 10578.81it/s]\n"
          ]
        },
        {
          "output_type": "stream",
          "name": "stdout",
          "text": [
            "留学生別科 修了\n",
            "{'wrongtext': '留学生別科 修了', 'text': '留学生別科 修了', 'coordinates': [[874, 2121], [1230, 2121], [1230, 2181], [874, 2181]], 'confidence': 0.8545622623632023}\n"
          ]
        },
        {
          "output_type": "stream",
          "name": "stderr",
          "text": [
            "100%|██████████| 27/27 [00:04<00:00,  6.52it/s]\n"
          ]
        },
        {
          "output_type": "stream",
          "name": "stdout",
          "text": [
            "香港中文大鼻文学部\n",
            "{'wrongtext': '香港中文大鼻文学部', 'text': '香港中文大鼻文学部', 'coordinates': [[608, 2206], [1016, 2206], [1016, 2266], [608, 2266]], 'confidence': 0.5739559752692523}\n"
          ]
        },
        {
          "output_type": "stream",
          "name": "stderr",
          "text": [
            "100%|██████████| 27/27 [00:04<00:00,  6.18it/s]\n"
          ]
        },
        {
          "output_type": "stream",
          "name": "stdout",
          "text": [
            "Division)\n",
            "{'wrongtext': 'Division)', 'text': 'Division)', 'coordinates': [[612, 2270], [815, 2270], [815, 2319], [612, 2319]], 'confidence': 0.8236840700973941}\n"
          ]
        },
        {
          "output_type": "stream",
          "name": "stderr",
          "text": [
            "100%|██████████| 27/27 [00:00<00:00, 46738.01it/s]\n"
          ]
        },
        {
          "output_type": "stream",
          "name": "stdout",
          "text": [
            "10\n",
            "{'wrongtext': '10', 'text': '10', 'coordinates': [[460, 2362], [512, 2362], [512, 2403], [460, 2403]], 'confidence': 0.48329415917396545}\n"
          ]
        },
        {
          "output_type": "stream",
          "name": "stderr",
          "text": [
            "100%|██████████| 27/27 [00:04<00:00,  5.95it/s]\n"
          ]
        },
        {
          "output_type": "stream",
          "name": "stdout",
          "text": [
            "株式会社パラダイスプラン (沖縄県宮古島市) 入社\n",
            "{'wrongtext': '株式会社パラダイスプラン (沖縄県宮古島市) 入社', 'text': '株式会社パラダイスプラン (沖縄県宮古島市) 入社', 'coordinates': [[608, 2670], [1627, 2670], [1627, 2739], [608, 2739]], 'confidence': 0.6709011427846866}\n"
          ]
        },
        {
          "output_type": "stream",
          "name": "stderr",
          "text": [
            "100%|██████████| 27/27 [00:00<00:00, 18546.71it/s]\n"
          ]
        },
        {
          "output_type": "stream",
          "name": "stdout",
          "text": [
            "店_運営\n",
            "{'wrongtext': '店_運営', 'text': '店_運営', 'coordinates': [[608, 2886], [813, 2886], [813, 2948], [608, 2948]], 'confidence': 0.1612876057624817}\n"
          ]
        },
        {
          "output_type": "stream",
          "name": "stderr",
          "text": [
            "100%|██████████| 27/27 [00:00<00:00, 269.78it/s]\n"
          ]
        },
        {
          "output_type": "stream",
          "name": "stdout",
          "text": [
            "マーケティング 都訳 通訳などを担当\n",
            "{'wrongtext': 'マーケティング 都訳 通訳などを担当', 'text': 'マーケティング 都訳 通訳などを担当', 'coordinates': [[830, 2885], [1625, 2885], [1625, 2951], [830, 2951]], 'confidence': 0.45542341769175254}\n",
            "None\n",
            "{'untitled': '履歴書'}\n",
            "{'untitled': '令和 3年8月31日'}\n",
            "{'untitled': '現在'}\n",
            "None\n",
            "{'furigana': 'テスト'}\n",
            "{'furigana': '氏名'}\n",
            "{'furigana': 'てすと'}\n",
            "None\n",
            "{'birthday': '6年 4月 23日生 (満27歳)'}\n",
            "{'birthday': '性別 男'}\n",
            "None\n",
            "{'furigana': 'ヒョウゴケンコウベシニシクオオツワ'}\n",
            "{'furigana': 'TEL・'}\n",
            "None\n",
            "{'address': 'テ 651-2112'}\n",
            "None\n",
            "{'address': '兵庫県神戸市西区大津和1丁目'}\n",
            "None\n",
            "None\n",
            "{None: 'TEL:'}\n",
            "None\n",
            "{'address': 'テ'}\n",
            "{'furigana': '現住所以外に連絡を必要とする場合のみ記入)'}\n",
            "{'address': '同上'}\n",
            "{None: '方 FAX'}\n",
            "None\n",
            "{'year': '月'}\n",
            "{'year': '学歴 ・ 職歴 (各別にまとめて書く)'}\n",
            "None\n",
            "{'year': '2012'}\n",
            "{'year': '9'}\n",
            "{'year': '香港寝曾大鼻國際鼻院 環境保育学科 入学'}\n",
            "{'year': '2014'}\n",
            "{'year': '香港8曾大鼻國際鼻院 環境保育学科 卒業 (理進学士 Distinction)'}\n",
            "{'year': '2015'}\n",
            "{'year': '9'}\n",
            "{'year': '香港中文大鼻文学部 哲学学科 入学'}\n",
            "{'year': '2017'}\n",
            "{'year': '4'}\n",
            "{'year': '亜細亜大学 留学生別科 交換留学で来日'}\n",
            "{'year': '2018'}\n",
            "{'year': '3'}\n",
            "{'year': '亜細亜大学 留学生別科 修了'}\n",
            "{'year': '香港中文大鼻文学部 哲学学科 卒業 (優等文学士 Second Class Upper'}\n",
            "{'year': '2018'}\n",
            "{'year': 'Division)'}\n",
            "{'year': '神戸情報大学院大学 (KIC) 情報技術研究科 (修士課程)'}\n",
            "{'education': '情報システム専攻'}\n",
            "{'year': '2020'}\n",
            "{'year': '10'}\n",
            "{'year': 'イノベーターコース 入学'}\n",
            "{'year': '現在に至る'}\n",
            "None\n",
            "{'year': '2018'}\n",
            "{'year': '10'}\n",
            "{'work_history': '株式会社パラダイスプラン (沖縄県宮古島市) 入社'}\n",
            "{'work_history': '総合職として島の駅みやこ (宮古島) 事業部 物販部門配属'}\n",
            "{'work_history': '店_運営 マーケティング 都訳 通訳などを担当'}\n",
            "{'year': '2020'}\n",
            "{'year': '5'}\n",
            "{'year': '会社都合により退社'}\n",
            "{'work_history': '以上'}\n"
          ]
        }
      ]
    },
    {
      "cell_type": "code",
      "metadata": {
        "colab": {
          "base_uri": "https://localhost:8080/",
          "height": 417
        },
        "id": "1A2N_C2zAH_S",
        "outputId": "ee719e60-d9d1-42a6-ab3d-aea8779cf978"
      },
      "source": [
        "dfnew= pd.read_csv('outputpairs.csv')\n",
        "dfnew.columns=['inp']\n",
        "dfnew['inp']= dfnew['inp'].str.replace('{', '')\n",
        "dfnew['inp']= dfnew['inp'].str.replace('}', '')\n",
        "dfnew['inp']= dfnew['inp'].str.replace('\\'', '')\n",
        "dfnew['inp']= dfnew['inp'].fillna('')\n",
        "dfnew['key']= dfnew['inp'].str.split(':').str[0]\n",
        "dfnew['value']= dfnew['inp'].str.split(':').str[1]\n",
        "dfnew"
      ],
      "execution_count": 50,
      "outputs": [
        {
          "output_type": "execute_result",
          "data": {
            "text/html": [
              "<div>\n",
              "<style scoped>\n",
              "    .dataframe tbody tr th:only-of-type {\n",
              "        vertical-align: middle;\n",
              "    }\n",
              "\n",
              "    .dataframe tbody tr th {\n",
              "        vertical-align: top;\n",
              "    }\n",
              "\n",
              "    .dataframe thead th {\n",
              "        text-align: right;\n",
              "    }\n",
              "</style>\n",
              "<table border=\"1\" class=\"dataframe\">\n",
              "  <thead>\n",
              "    <tr style=\"text-align: right;\">\n",
              "      <th></th>\n",
              "      <th>inp</th>\n",
              "      <th>key</th>\n",
              "      <th>value</th>\n",
              "    </tr>\n",
              "  </thead>\n",
              "  <tbody>\n",
              "    <tr>\n",
              "      <th>0</th>\n",
              "      <td></td>\n",
              "      <td></td>\n",
              "      <td>NaN</td>\n",
              "    </tr>\n",
              "    <tr>\n",
              "      <th>1</th>\n",
              "      <td></td>\n",
              "      <td></td>\n",
              "      <td>NaN</td>\n",
              "    </tr>\n",
              "    <tr>\n",
              "      <th>2</th>\n",
              "      <td></td>\n",
              "      <td></td>\n",
              "      <td>NaN</td>\n",
              "    </tr>\n",
              "    <tr>\n",
              "      <th>3</th>\n",
              "      <td></td>\n",
              "      <td></td>\n",
              "      <td>NaN</td>\n",
              "    </tr>\n",
              "    <tr>\n",
              "      <th>4</th>\n",
              "      <td></td>\n",
              "      <td></td>\n",
              "      <td>NaN</td>\n",
              "    </tr>\n",
              "    <tr>\n",
              "      <th>...</th>\n",
              "      <td>...</td>\n",
              "      <td>...</td>\n",
              "      <td>...</td>\n",
              "    </tr>\n",
              "    <tr>\n",
              "      <th>58</th>\n",
              "      <td></td>\n",
              "      <td></td>\n",
              "      <td>NaN</td>\n",
              "    </tr>\n",
              "    <tr>\n",
              "      <th>59</th>\n",
              "      <td>year: 2020</td>\n",
              "      <td>year</td>\n",
              "      <td>2020</td>\n",
              "    </tr>\n",
              "    <tr>\n",
              "      <th>60</th>\n",
              "      <td></td>\n",
              "      <td></td>\n",
              "      <td>NaN</td>\n",
              "    </tr>\n",
              "    <tr>\n",
              "      <th>61</th>\n",
              "      <td></td>\n",
              "      <td></td>\n",
              "      <td>NaN</td>\n",
              "    </tr>\n",
              "    <tr>\n",
              "      <th>62</th>\n",
              "      <td></td>\n",
              "      <td></td>\n",
              "      <td>NaN</td>\n",
              "    </tr>\n",
              "  </tbody>\n",
              "</table>\n",
              "<p>63 rows × 3 columns</p>\n",
              "</div>"
            ],
            "text/plain": [
              "           inp   key  value\n",
              "0                       NaN\n",
              "1                       NaN\n",
              "2                       NaN\n",
              "3                       NaN\n",
              "4                       NaN\n",
              "..         ...   ...    ...\n",
              "58                      NaN\n",
              "59  year: 2020  year   2020\n",
              "60                      NaN\n",
              "61                      NaN\n",
              "62                      NaN\n",
              "\n",
              "[63 rows x 3 columns]"
            ]
          },
          "metadata": {},
          "execution_count": 50
        }
      ]
    },
    {
      "cell_type": "code",
      "metadata": {
        "colab": {
          "base_uri": "https://localhost:8080/",
          "height": 418
        },
        "id": "JUTermVnAf9S",
        "outputId": "0b2b4221-3743-464b-870f-71504951d086"
      },
      "source": [
        "dfnew.dropna(inplace=True)\n",
        "dfnew.reset_index(inplace=True, drop=True)\n",
        "dfnew"
      ],
      "execution_count": 51,
      "outputs": [
        {
          "output_type": "execute_result",
          "data": {
            "text/html": [
              "<div>\n",
              "<style scoped>\n",
              "    .dataframe tbody tr th:only-of-type {\n",
              "        vertical-align: middle;\n",
              "    }\n",
              "\n",
              "    .dataframe tbody tr th {\n",
              "        vertical-align: top;\n",
              "    }\n",
              "\n",
              "    .dataframe thead th {\n",
              "        text-align: right;\n",
              "    }\n",
              "</style>\n",
              "<table border=\"1\" class=\"dataframe\">\n",
              "  <thead>\n",
              "    <tr style=\"text-align: right;\">\n",
              "      <th></th>\n",
              "      <th>inp</th>\n",
              "      <th>key</th>\n",
              "      <th>value</th>\n",
              "    </tr>\n",
              "  </thead>\n",
              "  <tbody>\n",
              "    <tr>\n",
              "      <th>0</th>\n",
              "      <td>birthday: 6年 4月 23日生 (満27歳)</td>\n",
              "      <td>birthday</td>\n",
              "      <td>6年 4月 23日生 (満27歳)</td>\n",
              "    </tr>\n",
              "    <tr>\n",
              "      <th>1</th>\n",
              "      <td>address: テ 651-2112</td>\n",
              "      <td>address</td>\n",
              "      <td>テ 651-2112</td>\n",
              "    </tr>\n",
              "    <tr>\n",
              "      <th>2</th>\n",
              "      <td>address: 兵庫県神戸市西区大津和1丁目</td>\n",
              "      <td>address</td>\n",
              "      <td>兵庫県神戸市西区大津和1丁目</td>\n",
              "    </tr>\n",
              "    <tr>\n",
              "      <th>3</th>\n",
              "      <td>year: 2012</td>\n",
              "      <td>year</td>\n",
              "      <td>2012</td>\n",
              "    </tr>\n",
              "    <tr>\n",
              "      <th>4</th>\n",
              "      <td>year: 2014</td>\n",
              "      <td>year</td>\n",
              "      <td>2014</td>\n",
              "    </tr>\n",
              "    <tr>\n",
              "      <th>5</th>\n",
              "      <td>year: 2015</td>\n",
              "      <td>year</td>\n",
              "      <td>2015</td>\n",
              "    </tr>\n",
              "    <tr>\n",
              "      <th>6</th>\n",
              "      <td>year: 2017</td>\n",
              "      <td>year</td>\n",
              "      <td>2017</td>\n",
              "    </tr>\n",
              "    <tr>\n",
              "      <th>7</th>\n",
              "      <td>year: 2018</td>\n",
              "      <td>year</td>\n",
              "      <td>2018</td>\n",
              "    </tr>\n",
              "    <tr>\n",
              "      <th>8</th>\n",
              "      <td>year: 2018</td>\n",
              "      <td>year</td>\n",
              "      <td>2018</td>\n",
              "    </tr>\n",
              "    <tr>\n",
              "      <th>9</th>\n",
              "      <td>year: 2020</td>\n",
              "      <td>year</td>\n",
              "      <td>2020</td>\n",
              "    </tr>\n",
              "    <tr>\n",
              "      <th>10</th>\n",
              "      <td>year: 2018</td>\n",
              "      <td>year</td>\n",
              "      <td>2018</td>\n",
              "    </tr>\n",
              "    <tr>\n",
              "      <th>11</th>\n",
              "      <td>year: 2020</td>\n",
              "      <td>year</td>\n",
              "      <td>2020</td>\n",
              "    </tr>\n",
              "  </tbody>\n",
              "</table>\n",
              "</div>"
            ],
            "text/plain": [
              "                            inp       key               value\n",
              "0   birthday: 6年 4月 23日生 (満27歳)  birthday   6年 4月 23日生 (満27歳)\n",
              "1           address: テ 651-2112   address          テ 651-2112\n",
              "2       address: 兵庫県神戸市西区大津和1丁目   address      兵庫県神戸市西区大津和1丁目\n",
              "3                    year: 2012      year                2012\n",
              "4                    year: 2014      year                2014\n",
              "5                    year: 2015      year                2015\n",
              "6                    year: 2017      year                2017\n",
              "7                    year: 2018      year                2018\n",
              "8                    year: 2018      year                2018\n",
              "9                    year: 2020      year                2020\n",
              "10                   year: 2018      year                2018\n",
              "11                   year: 2020      year                2020"
            ]
          },
          "metadata": {},
          "execution_count": 51
        }
      ]
    },
    {
      "cell_type": "code",
      "metadata": {
        "colab": {
          "base_uri": "https://localhost:8080/",
          "height": 417
        },
        "id": "8e6O2nun11C7",
        "outputId": "df2dee92-605e-4c56-865d-087a1ae2ece7"
      },
      "source": [
        "df= pd.read_csv('outputpairs.csv')\n",
        "df.columns=['inp']\n",
        "df['inp']= df['inp'].str.replace('{', '')\n",
        "df['inp']= df['inp'].str.replace('}', '')\n",
        "df['inp']= df['inp'].str.replace('\\'', '')\n",
        "df['inp']= df['inp'].str.replace('\\'', '')\n",
        "df['inp']= df['inp'].fillna('')\n",
        "df['key']= df['inp'].str.split(':').str[0]\n",
        "df['value']= df['inp'].str.split(':').str[1]\n",
        "df"
      ],
      "execution_count": 39,
      "outputs": [
        {
          "output_type": "execute_result",
          "data": {
            "text/html": [
              "<div>\n",
              "<style scoped>\n",
              "    .dataframe tbody tr th:only-of-type {\n",
              "        vertical-align: middle;\n",
              "    }\n",
              "\n",
              "    .dataframe tbody tr th {\n",
              "        vertical-align: top;\n",
              "    }\n",
              "\n",
              "    .dataframe thead th {\n",
              "        text-align: right;\n",
              "    }\n",
              "</style>\n",
              "<table border=\"1\" class=\"dataframe\">\n",
              "  <thead>\n",
              "    <tr style=\"text-align: right;\">\n",
              "      <th></th>\n",
              "      <th>inp</th>\n",
              "      <th>key</th>\n",
              "      <th>value</th>\n",
              "    </tr>\n",
              "  </thead>\n",
              "  <tbody>\n",
              "    <tr>\n",
              "      <th>0</th>\n",
              "      <td></td>\n",
              "      <td></td>\n",
              "      <td>NaN</td>\n",
              "    </tr>\n",
              "    <tr>\n",
              "      <th>1</th>\n",
              "      <td>: 履歴書</td>\n",
              "      <td></td>\n",
              "      <td>履歴書</td>\n",
              "    </tr>\n",
              "    <tr>\n",
              "      <th>2</th>\n",
              "      <td>: 令和 3年8月31日</td>\n",
              "      <td></td>\n",
              "      <td>令和 3年8月31日</td>\n",
              "    </tr>\n",
              "    <tr>\n",
              "      <th>3</th>\n",
              "      <td>: 現在</td>\n",
              "      <td></td>\n",
              "      <td>現在</td>\n",
              "    </tr>\n",
              "    <tr>\n",
              "      <th>4</th>\n",
              "      <td></td>\n",
              "      <td></td>\n",
              "      <td>NaN</td>\n",
              "    </tr>\n",
              "    <tr>\n",
              "      <th>...</th>\n",
              "      <td>...</td>\n",
              "      <td>...</td>\n",
              "      <td>...</td>\n",
              "    </tr>\n",
              "    <tr>\n",
              "      <th>58</th>\n",
              "      <td>職歴: 店_運営 マーケティング 都訳 通訳などを担当</td>\n",
              "      <td>職歴</td>\n",
              "      <td>店_運営 マーケティング 都訳 通訳などを担当</td>\n",
              "    </tr>\n",
              "    <tr>\n",
              "      <th>59</th>\n",
              "      <td>年: 2020</td>\n",
              "      <td>年</td>\n",
              "      <td>2020</td>\n",
              "    </tr>\n",
              "    <tr>\n",
              "      <th>60</th>\n",
              "      <td>年: 5</td>\n",
              "      <td>年</td>\n",
              "      <td>5</td>\n",
              "    </tr>\n",
              "    <tr>\n",
              "      <th>61</th>\n",
              "      <td>年: 会社都合により退社</td>\n",
              "      <td>年</td>\n",
              "      <td>会社都合により退社</td>\n",
              "    </tr>\n",
              "    <tr>\n",
              "      <th>62</th>\n",
              "      <td>職歴: 以上</td>\n",
              "      <td>職歴</td>\n",
              "      <td>以上</td>\n",
              "    </tr>\n",
              "  </tbody>\n",
              "</table>\n",
              "<p>63 rows × 3 columns</p>\n",
              "</div>"
            ],
            "text/plain": [
              "                            inp key                     value\n",
              "0                                                         NaN\n",
              "1                         : 履歴書                           履歴書\n",
              "2                  : 令和 3年8月31日                    令和 3年8月31日\n",
              "3                          : 現在                            現在\n",
              "4                                                         NaN\n",
              "..                          ...  ..                       ...\n",
              "58  職歴: 店_運営 マーケティング 都訳 通訳などを担当  職歴   店_運営 マーケティング 都訳 通訳などを担当\n",
              "59                      年: 2020   年                      2020\n",
              "60                         年: 5   年                         5\n",
              "61                 年: 会社都合により退社   年                 会社都合により退社\n",
              "62                       職歴: 以上  職歴                        以上\n",
              "\n",
              "[63 rows x 3 columns]"
            ]
          },
          "metadata": {},
          "execution_count": 39
        }
      ]
    },
    {
      "cell_type": "code",
      "metadata": {
        "colab": {
          "base_uri": "https://localhost:8080/",
          "height": 1000
        },
        "id": "cjsoG_7l8Wfe",
        "outputId": "a7c35707-f3d4-446d-b19b-057a7d297e95"
      },
      "source": [
        "df.dropna(inplace=True)\n",
        "df.reset_index(inplace=True, drop=True)\n",
        "df"
      ],
      "execution_count": 40,
      "outputs": [
        {
          "output_type": "execute_result",
          "data": {
            "text/html": [
              "<div>\n",
              "<style scoped>\n",
              "    .dataframe tbody tr th:only-of-type {\n",
              "        vertical-align: middle;\n",
              "    }\n",
              "\n",
              "    .dataframe tbody tr th {\n",
              "        vertical-align: top;\n",
              "    }\n",
              "\n",
              "    .dataframe thead th {\n",
              "        text-align: right;\n",
              "    }\n",
              "</style>\n",
              "<table border=\"1\" class=\"dataframe\">\n",
              "  <thead>\n",
              "    <tr style=\"text-align: right;\">\n",
              "      <th></th>\n",
              "      <th>inp</th>\n",
              "      <th>key</th>\n",
              "      <th>value</th>\n",
              "    </tr>\n",
              "  </thead>\n",
              "  <tbody>\n",
              "    <tr>\n",
              "      <th>0</th>\n",
              "      <td>: 履歴書</td>\n",
              "      <td></td>\n",
              "      <td>履歴書</td>\n",
              "    </tr>\n",
              "    <tr>\n",
              "      <th>1</th>\n",
              "      <td>: 令和 3年8月31日</td>\n",
              "      <td></td>\n",
              "      <td>令和 3年8月31日</td>\n",
              "    </tr>\n",
              "    <tr>\n",
              "      <th>2</th>\n",
              "      <td>: 現在</td>\n",
              "      <td></td>\n",
              "      <td>現在</td>\n",
              "    </tr>\n",
              "    <tr>\n",
              "      <th>3</th>\n",
              "      <td>ふりがな: テスト</td>\n",
              "      <td>ふりがな</td>\n",
              "      <td>テスト</td>\n",
              "    </tr>\n",
              "    <tr>\n",
              "      <th>4</th>\n",
              "      <td>ふりがな: 氏名</td>\n",
              "      <td>ふりがな</td>\n",
              "      <td>氏名</td>\n",
              "    </tr>\n",
              "    <tr>\n",
              "      <th>5</th>\n",
              "      <td>ふりがな: てすと</td>\n",
              "      <td>ふりがな</td>\n",
              "      <td>てすと</td>\n",
              "    </tr>\n",
              "    <tr>\n",
              "      <th>6</th>\n",
              "      <td>平成: 6年 4月 23日生 (満27歳)</td>\n",
              "      <td>平成</td>\n",
              "      <td>6年 4月 23日生 (満27歳)</td>\n",
              "    </tr>\n",
              "    <tr>\n",
              "      <th>7</th>\n",
              "      <td>平成: 性別 男</td>\n",
              "      <td>平成</td>\n",
              "      <td>性別 男</td>\n",
              "    </tr>\n",
              "    <tr>\n",
              "      <th>8</th>\n",
              "      <td>りがな: ヒョウゴケンコウベシニシクオオツワ</td>\n",
              "      <td>りがな</td>\n",
              "      <td>ヒョウゴケンコウベシニシクオオツワ</td>\n",
              "    </tr>\n",
              "    <tr>\n",
              "      <th>9</th>\n",
              "      <td>りがな: TEL・</td>\n",
              "      <td>りがな</td>\n",
              "      <td>TEL・</td>\n",
              "    </tr>\n",
              "    <tr>\n",
              "      <th>10</th>\n",
              "      <td>現住所: テ 651-2112</td>\n",
              "      <td>現住所</td>\n",
              "      <td>テ 651-2112</td>\n",
              "    </tr>\n",
              "    <tr>\n",
              "      <th>11</th>\n",
              "      <td>現住所: 兵庫県神戸市西区大津和1丁目</td>\n",
              "      <td>現住所</td>\n",
              "      <td>兵庫県神戸市西区大津和1丁目</td>\n",
              "    </tr>\n",
              "    <tr>\n",
              "      <th>12</th>\n",
              "      <td>FAX: TEL:</td>\n",
              "      <td>FAX</td>\n",
              "      <td>TEL</td>\n",
              "    </tr>\n",
              "    <tr>\n",
              "      <th>13</th>\n",
              "      <td>連絡先: テ</td>\n",
              "      <td>連絡先</td>\n",
              "      <td>テ</td>\n",
              "    </tr>\n",
              "    <tr>\n",
              "      <th>14</th>\n",
              "      <td>ふりがな: 現住所以外に連絡を必要とする場合のみ記入)</td>\n",
              "      <td>ふりがな</td>\n",
              "      <td>現住所以外に連絡を必要とする場合のみ記入)</td>\n",
              "    </tr>\n",
              "    <tr>\n",
              "      <th>15</th>\n",
              "      <td>連絡先: 同上</td>\n",
              "      <td>連絡先</td>\n",
              "      <td>同上</td>\n",
              "    </tr>\n",
              "    <tr>\n",
              "      <th>16</th>\n",
              "      <td>FAX: 方 FAX</td>\n",
              "      <td>FAX</td>\n",
              "      <td>方 FAX</td>\n",
              "    </tr>\n",
              "    <tr>\n",
              "      <th>17</th>\n",
              "      <td>年: 月</td>\n",
              "      <td>年</td>\n",
              "      <td>月</td>\n",
              "    </tr>\n",
              "    <tr>\n",
              "      <th>18</th>\n",
              "      <td>年: 学歴 ・ 職歴 (各別にまとめて書く)</td>\n",
              "      <td>年</td>\n",
              "      <td>学歴 ・ 職歴 (各別にまとめて書く)</td>\n",
              "    </tr>\n",
              "    <tr>\n",
              "      <th>19</th>\n",
              "      <td>年: 2012</td>\n",
              "      <td>年</td>\n",
              "      <td>2012</td>\n",
              "    </tr>\n",
              "    <tr>\n",
              "      <th>20</th>\n",
              "      <td>年: 9</td>\n",
              "      <td>年</td>\n",
              "      <td>9</td>\n",
              "    </tr>\n",
              "    <tr>\n",
              "      <th>21</th>\n",
              "      <td>年: 香港寝曾大鼻國際鼻院 環境保育学科 入学</td>\n",
              "      <td>年</td>\n",
              "      <td>香港寝曾大鼻國際鼻院 環境保育学科 入学</td>\n",
              "    </tr>\n",
              "    <tr>\n",
              "      <th>22</th>\n",
              "      <td>年: 2014</td>\n",
              "      <td>年</td>\n",
              "      <td>2014</td>\n",
              "    </tr>\n",
              "    <tr>\n",
              "      <th>23</th>\n",
              "      <td>年: 香港8曾大鼻國際鼻院 環境保育学科 卒業 (理進学士 Distinction)</td>\n",
              "      <td>年</td>\n",
              "      <td>香港8曾大鼻國際鼻院 環境保育学科 卒業 (理進学士 Distinction)</td>\n",
              "    </tr>\n",
              "    <tr>\n",
              "      <th>24</th>\n",
              "      <td>年: 2015</td>\n",
              "      <td>年</td>\n",
              "      <td>2015</td>\n",
              "    </tr>\n",
              "    <tr>\n",
              "      <th>25</th>\n",
              "      <td>年: 9</td>\n",
              "      <td>年</td>\n",
              "      <td>9</td>\n",
              "    </tr>\n",
              "    <tr>\n",
              "      <th>26</th>\n",
              "      <td>年: 香港中文大鼻文学部 哲学学科 入学</td>\n",
              "      <td>年</td>\n",
              "      <td>香港中文大鼻文学部 哲学学科 入学</td>\n",
              "    </tr>\n",
              "    <tr>\n",
              "      <th>27</th>\n",
              "      <td>年: 2017</td>\n",
              "      <td>年</td>\n",
              "      <td>2017</td>\n",
              "    </tr>\n",
              "    <tr>\n",
              "      <th>28</th>\n",
              "      <td>年: 4</td>\n",
              "      <td>年</td>\n",
              "      <td>4</td>\n",
              "    </tr>\n",
              "    <tr>\n",
              "      <th>29</th>\n",
              "      <td>年: 亜細亜大学 留学生別科 交換留学で来日</td>\n",
              "      <td>年</td>\n",
              "      <td>亜細亜大学 留学生別科 交換留学で来日</td>\n",
              "    </tr>\n",
              "    <tr>\n",
              "      <th>30</th>\n",
              "      <td>年: 2018</td>\n",
              "      <td>年</td>\n",
              "      <td>2018</td>\n",
              "    </tr>\n",
              "    <tr>\n",
              "      <th>31</th>\n",
              "      <td>年: 3</td>\n",
              "      <td>年</td>\n",
              "      <td>3</td>\n",
              "    </tr>\n",
              "    <tr>\n",
              "      <th>32</th>\n",
              "      <td>年: 亜細亜大学 留学生別科 修了</td>\n",
              "      <td>年</td>\n",
              "      <td>亜細亜大学 留学生別科 修了</td>\n",
              "    </tr>\n",
              "    <tr>\n",
              "      <th>33</th>\n",
              "      <td>年: 香港中文大鼻文学部 哲学学科 卒業 (優等文学士 Second Class Upper</td>\n",
              "      <td>年</td>\n",
              "      <td>香港中文大鼻文学部 哲学学科 卒業 (優等文学士 Second Class Upper</td>\n",
              "    </tr>\n",
              "    <tr>\n",
              "      <th>34</th>\n",
              "      <td>年: 2018</td>\n",
              "      <td>年</td>\n",
              "      <td>2018</td>\n",
              "    </tr>\n",
              "    <tr>\n",
              "      <th>35</th>\n",
              "      <td>年: Division)</td>\n",
              "      <td>年</td>\n",
              "      <td>Division)</td>\n",
              "    </tr>\n",
              "    <tr>\n",
              "      <th>36</th>\n",
              "      <td>年: 神戸情報大学院大学 (KIC) 情報技術研究科 (修士課程)</td>\n",
              "      <td>年</td>\n",
              "      <td>神戸情報大学院大学 (KIC) 情報技術研究科 (修士課程)</td>\n",
              "    </tr>\n",
              "    <tr>\n",
              "      <th>37</th>\n",
              "      <td>学歴: 情報システム専攻</td>\n",
              "      <td>学歴</td>\n",
              "      <td>情報システム専攻</td>\n",
              "    </tr>\n",
              "    <tr>\n",
              "      <th>38</th>\n",
              "      <td>年: 2020</td>\n",
              "      <td>年</td>\n",
              "      <td>2020</td>\n",
              "    </tr>\n",
              "    <tr>\n",
              "      <th>39</th>\n",
              "      <td>年: 10</td>\n",
              "      <td>年</td>\n",
              "      <td>10</td>\n",
              "    </tr>\n",
              "    <tr>\n",
              "      <th>40</th>\n",
              "      <td>年: イノベーターコース 入学</td>\n",
              "      <td>年</td>\n",
              "      <td>イノベーターコース 入学</td>\n",
              "    </tr>\n",
              "    <tr>\n",
              "      <th>41</th>\n",
              "      <td>年: 現在に至る</td>\n",
              "      <td>年</td>\n",
              "      <td>現在に至る</td>\n",
              "    </tr>\n",
              "    <tr>\n",
              "      <th>42</th>\n",
              "      <td>年: 2018</td>\n",
              "      <td>年</td>\n",
              "      <td>2018</td>\n",
              "    </tr>\n",
              "    <tr>\n",
              "      <th>43</th>\n",
              "      <td>年: 10</td>\n",
              "      <td>年</td>\n",
              "      <td>10</td>\n",
              "    </tr>\n",
              "    <tr>\n",
              "      <th>44</th>\n",
              "      <td>職歴: 株式会社パラダイスプラン (沖縄県宮古島市) 入社</td>\n",
              "      <td>職歴</td>\n",
              "      <td>株式会社パラダイスプラン (沖縄県宮古島市) 入社</td>\n",
              "    </tr>\n",
              "    <tr>\n",
              "      <th>45</th>\n",
              "      <td>職歴: 総合職として島の駅みやこ (宮古島) 事業部 物販部門配属</td>\n",
              "      <td>職歴</td>\n",
              "      <td>総合職として島の駅みやこ (宮古島) 事業部 物販部門配属</td>\n",
              "    </tr>\n",
              "    <tr>\n",
              "      <th>46</th>\n",
              "      <td>職歴: 店_運営 マーケティング 都訳 通訳などを担当</td>\n",
              "      <td>職歴</td>\n",
              "      <td>店_運営 マーケティング 都訳 通訳などを担当</td>\n",
              "    </tr>\n",
              "    <tr>\n",
              "      <th>47</th>\n",
              "      <td>年: 2020</td>\n",
              "      <td>年</td>\n",
              "      <td>2020</td>\n",
              "    </tr>\n",
              "    <tr>\n",
              "      <th>48</th>\n",
              "      <td>年: 5</td>\n",
              "      <td>年</td>\n",
              "      <td>5</td>\n",
              "    </tr>\n",
              "    <tr>\n",
              "      <th>49</th>\n",
              "      <td>年: 会社都合により退社</td>\n",
              "      <td>年</td>\n",
              "      <td>会社都合により退社</td>\n",
              "    </tr>\n",
              "    <tr>\n",
              "      <th>50</th>\n",
              "      <td>職歴: 以上</td>\n",
              "      <td>職歴</td>\n",
              "      <td>以上</td>\n",
              "    </tr>\n",
              "  </tbody>\n",
              "</table>\n",
              "</div>"
            ],
            "text/plain": [
              "                                               inp  ...                                         value\n",
              "0                                            : 履歴書  ...                                           履歴書\n",
              "1                                     : 令和 3年8月31日  ...                                    令和 3年8月31日\n",
              "2                                             : 現在  ...                                            現在\n",
              "3                                        ふりがな: テスト  ...                                           テスト\n",
              "4                                         ふりがな: 氏名  ...                                            氏名\n",
              "5                                        ふりがな: てすと  ...                                           てすと\n",
              "6                            平成: 6年 4月 23日生 (満27歳)  ...                             6年 4月 23日生 (満27歳)\n",
              "7                                         平成: 性別 男  ...                                          性別 男\n",
              "8                           りがな: ヒョウゴケンコウベシニシクオオツワ  ...                             ヒョウゴケンコウベシニシクオオツワ\n",
              "9                                        りがな: TEL・  ...                                          TEL・\n",
              "10                                 現住所: テ 651-2112  ...                                    テ 651-2112\n",
              "11                             現住所: 兵庫県神戸市西区大津和1丁目  ...                                兵庫県神戸市西区大津和1丁目\n",
              "12                                       FAX: TEL:  ...                                           TEL\n",
              "13                                          連絡先: テ  ...                                             テ\n",
              "14                     ふりがな: 現住所以外に連絡を必要とする場合のみ記入)  ...                         現住所以外に連絡を必要とする場合のみ記入)\n",
              "15                                         連絡先: 同上  ...                                            同上\n",
              "16                                      FAX: 方 FAX  ...                                         方 FAX\n",
              "17                                            年: 月  ...                                             月\n",
              "18                          年: 学歴 ・ 職歴 (各別にまとめて書く)  ...                           学歴 ・ 職歴 (各別にまとめて書く)\n",
              "19                                         年: 2012  ...                                          2012\n",
              "20                                            年: 9  ...                                             9\n",
              "21                         年: 香港寝曾大鼻國際鼻院 環境保育学科 入学  ...                          香港寝曾大鼻國際鼻院 環境保育学科 入学\n",
              "22                                         年: 2014  ...                                          2014\n",
              "23      年: 香港8曾大鼻國際鼻院 環境保育学科 卒業 (理進学士 Distinction)  ...       香港8曾大鼻國際鼻院 環境保育学科 卒業 (理進学士 Distinction)\n",
              "24                                         年: 2015  ...                                          2015\n",
              "25                                            年: 9  ...                                             9\n",
              "26                            年: 香港中文大鼻文学部 哲学学科 入学  ...                             香港中文大鼻文学部 哲学学科 入学\n",
              "27                                         年: 2017  ...                                          2017\n",
              "28                                            年: 4  ...                                             4\n",
              "29                          年: 亜細亜大学 留学生別科 交換留学で来日  ...                           亜細亜大学 留学生別科 交換留学で来日\n",
              "30                                         年: 2018  ...                                          2018\n",
              "31                                            年: 3  ...                                             3\n",
              "32                               年: 亜細亜大学 留学生別科 修了  ...                                亜細亜大学 留学生別科 修了\n",
              "33  年: 香港中文大鼻文学部 哲学学科 卒業 (優等文学士 Second Class Upper  ...   香港中文大鼻文学部 哲学学科 卒業 (優等文学士 Second Class Upper\n",
              "34                                         年: 2018  ...                                          2018\n",
              "35                                    年: Division)  ...                                     Division)\n",
              "36               年: 神戸情報大学院大学 (KIC) 情報技術研究科 (修士課程)  ...                神戸情報大学院大学 (KIC) 情報技術研究科 (修士課程)\n",
              "37                                    学歴: 情報システム専攻  ...                                      情報システム専攻\n",
              "38                                         年: 2020  ...                                          2020\n",
              "39                                           年: 10  ...                                            10\n",
              "40                                 年: イノベーターコース 入学  ...                                  イノベーターコース 入学\n",
              "41                                        年: 現在に至る  ...                                         現在に至る\n",
              "42                                         年: 2018  ...                                          2018\n",
              "43                                           年: 10  ...                                            10\n",
              "44                   職歴: 株式会社パラダイスプラン (沖縄県宮古島市) 入社  ...                     株式会社パラダイスプラン (沖縄県宮古島市) 入社\n",
              "45               職歴: 総合職として島の駅みやこ (宮古島) 事業部 物販部門配属  ...                 総合職として島の駅みやこ (宮古島) 事業部 物販部門配属\n",
              "46                     職歴: 店_運営 マーケティング 都訳 通訳などを担当  ...                       店_運営 マーケティング 都訳 通訳などを担当\n",
              "47                                         年: 2020  ...                                          2020\n",
              "48                                            年: 5  ...                                             5\n",
              "49                                    年: 会社都合により退社  ...                                     会社都合により退社\n",
              "50                                          職歴: 以上  ...                                            以上\n",
              "\n",
              "[51 rows x 3 columns]"
            ]
          },
          "metadata": {},
          "execution_count": 40
        }
      ]
    },
    {
      "cell_type": "code",
      "metadata": {
        "id": "ez6taMRb931m"
      },
      "source": [
        ""
      ],
      "execution_count": null,
      "outputs": []
    }
  ]
}